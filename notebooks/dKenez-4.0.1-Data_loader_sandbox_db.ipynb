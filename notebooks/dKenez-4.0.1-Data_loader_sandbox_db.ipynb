{
 "cells": [
  {
   "cell_type": "code",
   "execution_count": 11,
   "metadata": {},
   "outputs": [],
   "source": [
    "import json\n",
    "import random\n",
    "import time\n",
    "\n",
    "import matplotlib.pyplot as plt\n",
    "import numpy as np\n",
    "import polars as pl\n",
    "import psycopg2\n",
    "from dotenv import dotenv_values\n",
    "from locus.utils.paths import SQL_DIR\n"
   ]
  },
  {
   "cell_type": "code",
   "execution_count": 12,
   "metadata": {},
   "outputs": [],
   "source": [
    "config = dotenv_values(\"../.env\")\n",
    "conn = psycopg2.connect(\n",
    "    host=config[\"DB_HOST\"],\n",
    "    port=config[\"DB_PORT\"],\n",
    "    dbname=config[\"DB_NAME\"],\n",
    "    user=config[\"DB_USER\"],\n",
    "    password=config[\"DB_PASSWORD\"],\n",
    ")\n",
    "cur = conn.cursor()"
   ]
  },
  {
   "cell_type": "code",
   "execution_count": 13,
   "metadata": {},
   "outputs": [],
   "source": [
    "with open(SQL_DIR / \"select_batch.sql\", \"r\") as f:\n",
    "    sql_string = f.read()"
   ]
  },
  {
   "cell_type": "code",
   "execution_count": 14,
   "metadata": {},
   "outputs": [],
   "source": [
    "# function that times the execution of a function\n",
    "def timeit(func):\n",
    "    def wrapper(*args, **kwargs):\n",
    "        start = time.time()\n",
    "        ret = func(*args, **kwargs)\n",
    "        print(f\"{func.__name__} took {time.time() - start:.2f} seconds to fetch {args[0]} items\")\n",
    "        return ret, time.time() - start\n",
    "\n",
    "    return wrapper"
   ]
  },
  {
   "cell_type": "code",
   "execution_count": 15,
   "metadata": {},
   "outputs": [
    {
     "name": "stdout",
     "output_type": "stream",
     "text": [
      "get_item_timer took 0.02 seconds to fetch 3 items\n"
     ]
    },
    {
     "data": {
      "text/plain": [
       "(None, 0.02301621437072754)"
      ]
     },
     "execution_count": 15,
     "metadata": {},
     "output_type": "execute_result"
    }
   ],
   "source": [
    "# timeit example\n",
    "@timeit\n",
    "def get_item_timer(n: int):\n",
    "    rand_ids = [random.randint(0, 3993899) for _ in range(n)]\n",
    "    sql_s = sql_string.format(f\"({', '.join(map(str, rand_ids))})\")\n",
    "    results_df = pl.read_database(sql_s, conn)\n",
    "\n",
    "get_item_timer(3)"
   ]
  },
  {
   "cell_type": "code",
   "execution_count": 16,
   "metadata": {},
   "outputs": [],
   "source": [
    "def write_as_json(X, Y, Y_mean, Y_std, Y_avg_time):\n",
    "    # stats into json file\n",
    "    with open(\"results_datafetch_db.json\", \"w\") as file:\n",
    "        json.dump(\n",
    "            {\n",
    "                \"X\": X.tolist(),\n",
    "                \"Y\": Y,\n",
    "                \"Y_mean\": Y_mean,\n",
    "                \"Y_std\": Y_std,\n",
    "                \"Y_avg_time\": Y_avg_time,\n",
    "            },\n",
    "            file,\n",
    "        )"
   ]
  },
  {
   "cell_type": "code",
   "execution_count": 17,
   "metadata": {},
   "outputs": [
    {
     "name": "stdout",
     "output_type": "stream",
     "text": [
      "get_item_timer took 0.01 seconds to fetch 1 items\n",
      "get_item_timer took 0.00 seconds to fetch 1 items\n",
      "get_item_timer took 0.00 seconds to fetch 1 items\n",
      "get_item_timer took 0.00 seconds to fetch 1 items\n",
      "get_item_timer took 0.00 seconds to fetch 1 items\n",
      "get_item_timer took 0.00 seconds to fetch 2 items\n",
      "get_item_timer took 0.00 seconds to fetch 2 items\n",
      "get_item_timer took 0.00 seconds to fetch 2 items\n",
      "get_item_timer took 0.00 seconds to fetch 2 items\n",
      "get_item_timer took 0.00 seconds to fetch 2 items\n",
      "get_item_timer took 0.00 seconds to fetch 3 items\n",
      "get_item_timer took 0.00 seconds to fetch 3 items\n",
      "get_item_timer took 0.00 seconds to fetch 3 items\n",
      "get_item_timer took 0.00 seconds to fetch 3 items\n",
      "get_item_timer took 0.00 seconds to fetch 3 items\n",
      "get_item_timer took 0.00 seconds to fetch 4 items\n",
      "get_item_timer took 0.00 seconds to fetch 4 items\n",
      "get_item_timer took 0.00 seconds to fetch 4 items\n",
      "get_item_timer took 0.00 seconds to fetch 4 items\n",
      "get_item_timer took 0.00 seconds to fetch 4 items\n",
      "get_item_timer took 0.01 seconds to fetch 7 items\n",
      "get_item_timer took 0.01 seconds to fetch 7 items\n",
      "get_item_timer took 0.01 seconds to fetch 7 items\n",
      "get_item_timer took 0.01 seconds to fetch 7 items\n",
      "get_item_timer took 0.00 seconds to fetch 7 items\n",
      "get_item_timer took 0.01 seconds to fetch 11 items\n",
      "get_item_timer took 0.01 seconds to fetch 11 items\n",
      "get_item_timer took 0.01 seconds to fetch 11 items\n",
      "get_item_timer took 0.02 seconds to fetch 11 items\n",
      "get_item_timer took 0.01 seconds to fetch 11 items\n",
      "get_item_timer took 0.01 seconds to fetch 16 items\n",
      "get_item_timer took 0.01 seconds to fetch 16 items\n",
      "get_item_timer took 0.01 seconds to fetch 16 items\n",
      "get_item_timer took 0.01 seconds to fetch 16 items\n",
      "get_item_timer took 0.01 seconds to fetch 16 items\n",
      "get_item_timer took 0.02 seconds to fetch 24 items\n",
      "get_item_timer took 0.03 seconds to fetch 24 items\n",
      "get_item_timer took 0.02 seconds to fetch 24 items\n",
      "get_item_timer took 0.02 seconds to fetch 24 items\n",
      "get_item_timer took 0.03 seconds to fetch 24 items\n",
      "get_item_timer took 0.03 seconds to fetch 36 items\n",
      "get_item_timer took 0.03 seconds to fetch 36 items\n",
      "get_item_timer took 0.03 seconds to fetch 36 items\n",
      "get_item_timer took 0.03 seconds to fetch 36 items\n",
      "get_item_timer took 0.03 seconds to fetch 36 items\n",
      "get_item_timer took 0.05 seconds to fetch 54 items\n",
      "get_item_timer took 0.04 seconds to fetch 54 items\n",
      "get_item_timer took 0.05 seconds to fetch 54 items\n",
      "get_item_timer took 0.06 seconds to fetch 54 items\n",
      "get_item_timer took 0.05 seconds to fetch 54 items\n",
      "get_item_timer took 0.06 seconds to fetch 81 items\n",
      "get_item_timer took 0.07 seconds to fetch 81 items\n",
      "get_item_timer took 0.06 seconds to fetch 81 items\n",
      "get_item_timer took 0.06 seconds to fetch 81 items\n",
      "get_item_timer took 0.06 seconds to fetch 81 items\n",
      "get_item_timer took 0.10 seconds to fetch 121 items\n",
      "get_item_timer took 0.10 seconds to fetch 121 items\n",
      "get_item_timer took 0.10 seconds to fetch 121 items\n",
      "get_item_timer took 0.10 seconds to fetch 121 items\n",
      "get_item_timer took 0.10 seconds to fetch 121 items\n",
      "get_item_timer took 0.15 seconds to fetch 181 items\n",
      "get_item_timer took 0.15 seconds to fetch 181 items\n",
      "get_item_timer took 0.15 seconds to fetch 181 items\n",
      "get_item_timer took 0.15 seconds to fetch 181 items\n",
      "get_item_timer took 0.15 seconds to fetch 181 items\n",
      "get_item_timer took 0.24 seconds to fetch 270 items\n",
      "get_item_timer took 0.25 seconds to fetch 270 items\n",
      "get_item_timer took 0.21 seconds to fetch 270 items\n",
      "get_item_timer took 0.20 seconds to fetch 270 items\n",
      "get_item_timer took 0.20 seconds to fetch 270 items\n",
      "get_item_timer took 0.31 seconds to fetch 403 items\n",
      "get_item_timer took 0.32 seconds to fetch 403 items\n",
      "get_item_timer took 0.32 seconds to fetch 403 items\n",
      "get_item_timer took 0.29 seconds to fetch 403 items\n",
      "get_item_timer took 0.34 seconds to fetch 403 items\n",
      "get_item_timer took 0.45 seconds to fetch 602 items\n",
      "get_item_timer took 0.43 seconds to fetch 602 items\n",
      "get_item_timer took 0.42 seconds to fetch 602 items\n",
      "get_item_timer took 0.43 seconds to fetch 602 items\n",
      "get_item_timer took 0.44 seconds to fetch 602 items\n",
      "get_item_timer took 0.64 seconds to fetch 898 items\n",
      "get_item_timer took 0.62 seconds to fetch 898 items\n",
      "get_item_timer took 0.61 seconds to fetch 898 items\n",
      "get_item_timer took 0.61 seconds to fetch 898 items\n",
      "get_item_timer took 0.63 seconds to fetch 898 items\n",
      "get_item_timer took 0.97 seconds to fetch 1340 items\n",
      "get_item_timer took 1.09 seconds to fetch 1340 items\n",
      "get_item_timer took 0.96 seconds to fetch 1340 items\n",
      "get_item_timer took 1.08 seconds to fetch 1340 items\n",
      "get_item_timer took 0.97 seconds to fetch 1340 items\n",
      "get_item_timer took 1.44 seconds to fetch 2000 items\n",
      "get_item_timer took 1.29 seconds to fetch 2000 items\n",
      "get_item_timer took 1.39 seconds to fetch 2000 items\n",
      "get_item_timer took 1.31 seconds to fetch 2000 items\n",
      "get_item_timer took 1.26 seconds to fetch 2000 items\n"
     ]
    }
   ],
   "source": [
    "# x should be a logarithmix linspace from 1 to 5000\n",
    "X = np.logspace(0, np.log10(2000.5), 20, dtype=np.int64)\n",
    "# X = np.logspace(0, 0.8, 3, dtype=np.int64)\n",
    "\n",
    "# x remove duplicates\n",
    "X = np.unique(X)\n",
    "\n",
    "Y = []\n",
    "Y_mean = []\n",
    "Y_std = []\n",
    "Y_avg_time = []\n",
    "for x in X:\n",
    "    y = []\n",
    "    for i in range(5):\n",
    "        _, t = get_item_timer(x)\n",
    "        y.append(t)\n",
    "\n",
    "    Y.append(y)\n",
    "    Y_mean.append(np.mean(y))\n",
    "    Y_std.append(np.std(y))\n",
    "    Y_avg_time.append(np.mean(y) / x)\n",
    "\n",
    "    write_as_json(X, Y, Y_mean, Y_std, Y_avg_time)"
   ]
  },
  {
   "cell_type": "code",
   "execution_count": 18,
   "metadata": {},
   "outputs": [
    {
     "data": {
      "image/png": "[encoded data removed]",
      "text/plain": [
       "<Figure size 640x480 with 2 Axes>"
      ]
     },
     "metadata": {},
     "output_type": "display_data"
    }
   ],
   "source": [
    "fig, ax1 = plt.subplots()\n",
    "\n",
    "# Plot error bar on first axis\n",
    "ax1.errorbar(X, Y_mean, Y_std, fmt='-o')\n",
    "ax1.set_ylabel('Time [s]')\n",
    "ax1.yaxis.tick_left()\n",
    "ax1.yaxis.set_label_position(\"left\")\n",
    "\n",
    "# Create second axis\n",
    "ax2 = ax1.twinx()\n",
    "\n",
    "# Plot line chart on second axis\n",
    "ax2.plot(X, Y_avg_time, color='r')\n",
    "ax2.set_ylabel('Time per item [s]')\n",
    "ax2.yaxis.tick_right()\n",
    "ax2.yaxis.set_label_position(\"right\")\n",
    "\n",
    "plt.show()"
   ]
  },
  {
   "cell_type": "code",
   "execution_count": null,
   "metadata": {},
   "outputs": [],
   "source": []
  }
 ],
 "metadata": {
  "kernelspec": {
   "display_name": "locus-model",
   "language": "python",
   "name": "python3"
  },
  "language_info": {
   "codemirror_mode": {
    "name": "ipython",
    "version": 3
   },
   "file_extension": ".py",
   "mimetype": "text/x-python",
   "name": "python",
   "nbconvert_exporter": "python",
   "pygments_lexer": "ipython3",
   "version": "3.11.7"
  }
 },
 "nbformat": 4,
 "nbformat_minor": 2
}
