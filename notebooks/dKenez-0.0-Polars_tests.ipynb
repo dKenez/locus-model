{
 "cells": [
  {
   "cell_type": "code",
   "execution_count": 1,
   "metadata": {},
   "outputs": [],
   "source": [
    "import polars as pl"
   ]
  },
  {
   "cell_type": "code",
   "execution_count": 2,
   "metadata": {},
   "outputs": [
    {
     "name": "stdout",
     "output_type": "stream",
     "text": [
      "shape: (5,)\n",
      "Series: 'a' [i64]\n",
      "[\n",
      "\t1\n",
      "\t2\n",
      "\t3\n",
      "\t4\n",
      "\t5\n",
      "]\n"
     ]
    }
   ],
   "source": [
    "s = pl.Series(\"a\", [1, 2, 3, 4, 5])\n",
    "print(s)"
   ]
  },
  {
   "cell_type": "code",
   "execution_count": 3,
   "metadata": {},
   "outputs": [
    {
     "name": "stdout",
     "output_type": "stream",
     "text": [
      "1\n",
      "5\n"
     ]
    }
   ],
   "source": [
    "print(s.min())\n",
    "print(s.max())"
   ]
  },
  {
   "cell_type": "code",
   "execution_count": 4,
   "metadata": {},
   "outputs": [
    {
     "name": "stdout",
     "output_type": "stream",
     "text": [
      "shape: (5,)\n",
      "Series: 'a' [str]\n",
      "[\n",
      "\t\"pola\"\n",
      "\t\"bear\"\n",
      "\t\"arctic\"\n",
      "\t\"pola fox\"\n",
      "\t\"pola bear\"\n",
      "]\n"
     ]
    }
   ],
   "source": [
    "s = pl.Series(\"a\", [\"polar\", \"bear\", \"arctic\", \"polar fox\", \"polar bear\"])\n",
    "s2 = s.str.replace(\"polar\", \"pola\")\n",
    "print(s2)"
   ]
  },
  {
   "cell_type": "code",
   "execution_count": 5,
   "metadata": {},
   "outputs": [
    {
     "name": "stdout",
     "output_type": "stream",
     "text": [
      "shape: (5,)\n",
      "Series: 'literal' [i8]\n",
      "[\n",
      "\t1\n",
      "\t3\n",
      "\t5\n",
      "\t7\n",
      "\t2\n",
      "]\n"
     ]
    }
   ],
   "source": [
    "from datetime import date\n",
    "\n",
    "start = date(2001, 1, 1)\n",
    "stop = date(2001, 1, 9)\n",
    "s = pl.date_range(start, stop, interval=\"2d\", eager=True)\n",
    "print(s.dt.weekday())"
   ]
  },
  {
   "cell_type": "code",
   "execution_count": 6,
   "metadata": {},
   "outputs": [
    {
     "name": "stdout",
     "output_type": "stream",
     "text": [
      "shape: (5, 3)\n",
      "┌─────────┬─────────────────────┬───────┐\n",
      "│ integer ┆ date                ┆ float │\n",
      "│ ---     ┆ ---                 ┆ ---   │\n",
      "│ i64     ┆ datetime[μs]        ┆ f64   │\n",
      "╞═════════╪═════════════════════╪═══════╡\n",
      "│ 1       ┆ 2022-01-01 00:00:00 ┆ 4.0   │\n",
      "│ 2       ┆ 2022-01-02 00:00:00 ┆ 5.0   │\n",
      "│ 3       ┆ 2022-01-03 00:00:00 ┆ 6.0   │\n",
      "│ 4       ┆ 2022-01-04 00:00:00 ┆ 7.0   │\n",
      "│ 5       ┆ 2022-01-05 00:00:00 ┆ 8.0   │\n",
      "└─────────┴─────────────────────┴───────┘\n"
     ]
    }
   ],
   "source": [
    "from datetime import datetime\n",
    "\n",
    "df = pl.DataFrame(\n",
    "    {\n",
    "        \"integer\": [1, 2, 3, 4, 5],\n",
    "        \"date\": [\n",
    "            datetime(2022, 1, 1),\n",
    "            datetime(2022, 1, 2),\n",
    "            datetime(2022, 1, 3),\n",
    "            datetime(2022, 1, 4),\n",
    "            datetime(2022, 1, 5),\n",
    "        ],\n",
    "        \"float\": [4.0, 5.0, 6.0, 7.0, 8.0],\n",
    "    }\n",
    ")\n",
    "\n",
    "print(df)"
   ]
  },
  {
   "cell_type": "code",
   "execution_count": 7,
   "metadata": {},
   "outputs": [
    {
     "name": "stdout",
     "output_type": "stream",
     "text": [
      "shape: (3, 3)\n",
      "┌─────────┬─────────────────────┬───────┐\n",
      "│ integer ┆ date                ┆ float │\n",
      "│ ---     ┆ ---                 ┆ ---   │\n",
      "│ i64     ┆ datetime[μs]        ┆ f64   │\n",
      "╞═════════╪═════════════════════╪═══════╡\n",
      "│ 1       ┆ 2022-01-01 00:00:00 ┆ 4.0   │\n",
      "│ 2       ┆ 2022-01-02 00:00:00 ┆ 5.0   │\n",
      "│ 3       ┆ 2022-01-03 00:00:00 ┆ 6.0   │\n",
      "└─────────┴─────────────────────┴───────┘\n"
     ]
    }
   ],
   "source": [
    "print(df.head(3))"
   ]
  },
  {
   "cell_type": "code",
   "execution_count": 8,
   "metadata": {},
   "outputs": [
    {
     "name": "stdout",
     "output_type": "stream",
     "text": [
      "shape: (3, 3)\n",
      "┌─────────┬─────────────────────┬───────┐\n",
      "│ integer ┆ date                ┆ float │\n",
      "│ ---     ┆ ---                 ┆ ---   │\n",
      "│ i64     ┆ datetime[μs]        ┆ f64   │\n",
      "╞═════════╪═════════════════════╪═══════╡\n",
      "│ 3       ┆ 2022-01-03 00:00:00 ┆ 6.0   │\n",
      "│ 4       ┆ 2022-01-04 00:00:00 ┆ 7.0   │\n",
      "│ 5       ┆ 2022-01-05 00:00:00 ┆ 8.0   │\n",
      "└─────────┴─────────────────────┴───────┘\n"
     ]
    }
   ],
   "source": [
    "print(df.tail(3))"
   ]
  },
  {
   "cell_type": "code",
   "execution_count": 9,
   "metadata": {},
   "outputs": [
    {
     "name": "stdout",
     "output_type": "stream",
     "text": [
      "shape: (2, 3)\n",
      "┌─────────┬─────────────────────┬───────┐\n",
      "│ integer ┆ date                ┆ float │\n",
      "│ ---     ┆ ---                 ┆ ---   │\n",
      "│ i64     ┆ datetime[μs]        ┆ f64   │\n",
      "╞═════════╪═════════════════════╪═══════╡\n",
      "│ 4       ┆ 2022-01-04 00:00:00 ┆ 7.0   │\n",
      "│ 2       ┆ 2022-01-02 00:00:00 ┆ 5.0   │\n",
      "└─────────┴─────────────────────┴───────┘\n"
     ]
    }
   ],
   "source": [
    "print(df.sample(2))"
   ]
  },
  {
   "cell_type": "code",
   "execution_count": 10,
   "metadata": {},
   "outputs": [
    {
     "name": "stdout",
     "output_type": "stream",
     "text": [
      "shape: (9, 4)\n",
      "┌────────────┬──────────┬─────────────────────┬──────────┐\n",
      "│ statistic  ┆ integer  ┆ date                ┆ float    │\n",
      "│ ---        ┆ ---      ┆ ---                 ┆ ---      │\n",
      "│ str        ┆ f64      ┆ str                 ┆ f64      │\n",
      "╞════════════╪══════════╪═════════════════════╪══════════╡\n",
      "│ count      ┆ 5.0      ┆ 5                   ┆ 5.0      │\n",
      "│ null_count ┆ 0.0      ┆ 0                   ┆ 0.0      │\n",
      "│ mean       ┆ 3.0      ┆ 2022-01-03 00:00:00 ┆ 6.0      │\n",
      "│ std        ┆ 1.581139 ┆ null                ┆ 1.581139 │\n",
      "│ min        ┆ 1.0      ┆ 2022-01-01 00:00:00 ┆ 4.0      │\n",
      "│ 25%        ┆ 2.0      ┆ 2022-01-02 00:00:00 ┆ 5.0      │\n",
      "│ 50%        ┆ 3.0      ┆ 2022-01-03 00:00:00 ┆ 6.0      │\n",
      "│ 75%        ┆ 4.0      ┆ 2022-01-04 00:00:00 ┆ 7.0      │\n",
      "│ max        ┆ 5.0      ┆ 2022-01-05 00:00:00 ┆ 8.0      │\n",
      "└────────────┴──────────┴─────────────────────┴──────────┘\n"
     ]
    }
   ],
   "source": [
    "print(df.describe())"
   ]
  }
 ],
 "metadata": {
  "kernelspec": {
   "display_name": "locus-model",
   "language": "python",
   "name": "python3"
  },
  "language_info": {
   "codemirror_mode": {
    "name": "ipython",
    "version": 3
   },
   "file_extension": ".py",
   "mimetype": "text/x-python",
   "name": "python",
   "nbconvert_exporter": "python",
   "pygments_lexer": "ipython3",
   "version": "3.11.7"
  }
 },
 "nbformat": 4,
 "nbformat_minor": 2
}
