{
 "cells": [
  {
   "cell_type": "code",
   "execution_count": 30,
   "metadata": {},
   "outputs": [],
   "source": [
    "from typing import cast\n",
    "\n",
    "import networkx as nx\n",
    "import numpy as np\n",
    "import psycopg2\n",
    "import torch\n",
    "import polars as pl\n",
    "from dotenv import dotenv_values\n",
    "from locus.data.QuadTree import CellState\n",
    "from locus.models.dataloader import LDoGIDataLoader\n",
    "from locus.models.dataset import LDoGIDataset\n",
    "from locus.utils.paths import PROCESSED_DATA_DIR, PROJECT_ROOT, SQL_DIR\n",
    "from networkx import DiGraph\n",
    "from torch.utils.data import BatchSampler, DataLoader, RandomSampler\n",
    "from geopy import distance\n"
   ]
  },
  {
   "cell_type": "code",
   "execution_count": 31,
   "metadata": {},
   "outputs": [],
   "source": [
    "config = dotenv_values(PROJECT_ROOT / \".env\")\n",
    "\n",
    "conn = psycopg2.connect(\n",
    "    host=config[\"DB_HOST\"],\n",
    "    port=config[\"DB_PORT\"],\n",
    "    dbname=config[\"DB_NAME\"],\n",
    "    user=config[\"DB_USER\"],\n",
    "    password=config[\"DB_PASSWORD\"],\n",
    ")\n",
    "cur = conn.cursor()"
   ]
  },
  {
   "cell_type": "code",
   "execution_count": 32,
   "metadata": {},
   "outputs": [
    {
     "data": {
      "text/plain": [
       "4233900"
      ]
     },
     "execution_count": 32,
     "metadata": {},
     "output_type": "execute_result"
    }
   ],
   "source": [
    "with open(SQL_DIR / \"select_max_id.sql\") as f:\n",
    "    cur.execute(f.read())\n",
    "\n",
    "# Retrieve query results\n",
    "max_id = cur.fetchall()[0][0]\n",
    "max_id"
   ]
  },
  {
   "cell_type": "code",
   "execution_count": 33,
   "metadata": {},
   "outputs": [],
   "source": [
    "sql_string = 'select dataset.latitude, dataset.longitude from dataset where id > {} and id < {};'"
   ]
  },
  {
   "cell_type": "code",
   "execution_count": 34,
   "metadata": {},
   "outputs": [],
   "source": [
    "sum_dist_sqr = 0\n",
    "sum_dist = 0"
   ]
  },
  {
   "cell_type": "code",
   "execution_count": 35,
   "metadata": {},
   "outputs": [],
   "source": [
    "average_lat = 35.428497693121706\n",
    "average_lon = -16.918947023563472"
   ]
  },
  {
   "cell_type": "code",
   "execution_count": 36,
   "metadata": {},
   "outputs": [],
   "source": [
    "batch_size = 10000\n",
    "min_pct = 0.7\n",
    "max_pct = 0.9"
   ]
  },
  {
   "cell_type": "code",
   "execution_count": 37,
   "metadata": {},
   "outputs": [],
   "source": [
    "for i in range(int(max_id*min_pct), int(max_id*max_pct), batch_size):\n",
    "    data = pl.read_database(sql_string.format(i, i+batch_size), conn)\n",
    "    for d in data.rows(named=True):\n",
    "        dist = distance.great_circle((average_lat, average_lon), (d['latitude'], d['longitude'])).km\n",
    "        sum_dist_sqr += dist**2\n",
    "        sum_dist += dist\n"
   ]
  },
  {
   "cell_type": "code",
   "execution_count": 38,
   "metadata": {},
   "outputs": [],
   "source": [
    "mse = sum_dist_sqr / int(max_id*(max_pct - min_pct))\n",
    "me = sum_dist / int(max_id*(max_pct - min_pct))"
   ]
  },
  {
   "cell_type": "code",
   "execution_count": 39,
   "metadata": {},
   "outputs": [
    {
     "data": {
      "text/plain": [
       "49788457.26168653"
      ]
     },
     "execution_count": 39,
     "metadata": {},
     "output_type": "execute_result"
    }
   ],
   "source": [
    "mse"
   ]
  },
  {
   "cell_type": "code",
   "execution_count": 40,
   "metadata": {},
   "outputs": [
    {
     "data": {
      "text/plain": [
       "5866.976065916786"
      ]
     },
     "execution_count": 40,
     "metadata": {},
     "output_type": "execute_result"
    }
   ],
   "source": [
    "me"
   ]
  },
  {
   "cell_type": "code",
   "execution_count": null,
   "metadata": {},
   "outputs": [],
   "source": []
  }
 ],
 "metadata": {
  "kernelspec": {
   "display_name": "locus-model",
   "language": "python",
   "name": "python3"
  },
  "language_info": {
   "codemirror_mode": {
    "name": "ipython",
    "version": 3
   },
   "file_extension": ".py",
   "mimetype": "text/x-python",
   "name": "python",
   "nbconvert_exporter": "python",
   "pygments_lexer": "ipython3",
   "version": "3.11.7"
  }
 },
 "nbformat": 4,
 "nbformat_minor": 2
}
