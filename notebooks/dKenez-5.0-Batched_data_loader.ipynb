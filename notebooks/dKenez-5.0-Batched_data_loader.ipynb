{
 "cells": [
  {
   "cell_type": "code",
   "execution_count": 1,
   "metadata": {},
   "outputs": [],
   "source": [
    "from typing import cast\n",
    "\n",
    "import networkx as nx\n",
    "import numpy as np\n",
    "import psycopg2\n",
    "import torch\n",
    "from dotenv import dotenv_values\n",
    "from locus.data.QuadTree import CellState\n",
    "from locus.models.dataloader import LDoGIDataLoader\n",
    "from locus.models.dataset import LDoGIDataset\n",
    "from locus.utils.paths import PROCESSED_DATA_DIR, PROJECT_ROOT, SQL_DIR\n",
    "from networkx import DiGraph\n",
    "from torch.utils.data import BatchSampler, DataLoader, RandomSampler\n"
   ]
  },
  {
   "cell_type": "code",
   "execution_count": 2,
   "metadata": {},
   "outputs": [],
   "source": [
    "config = dotenv_values(PROJECT_ROOT / \".env\")\n",
    "\n",
    "conn = psycopg2.connect(\n",
    "    host=config[\"DB_HOST\"],\n",
    "    port=config[\"DB_PORT\"],\n",
    "    dbname=config[\"DB_NAME\"],\n",
    "    user=config[\"DB_USER\"],\n",
    "    password=config[\"DB_PASSWORD\"],\n",
    ")\n",
    "cur = conn.cursor()"
   ]
  },
  {
   "cell_type": "code",
   "execution_count": 3,
   "metadata": {},
   "outputs": [
    {
     "data": {
      "text/plain": [
       "4233900"
      ]
     },
     "execution_count": 3,
     "metadata": {},
     "output_type": "execute_result"
    }
   ],
   "source": [
    "with open(SQL_DIR / \"select_max_id.sql\") as f:\n",
    "    cur.execute(f.read())\n",
    "\n",
    "# Retrieve query results\n",
    "max_id = cur.fetchall()[0][0]\n",
    "max_id"
   ]
  },
  {
   "cell_type": "code",
   "execution_count": 4,
   "metadata": {},
   "outputs": [],
   "source": [
    "QUADTREE = \"qt_min50_max2000_df1.gml\"\n",
    "BATCH_SIZE = 32"
   ]
  },
  {
   "cell_type": "code",
   "execution_count": 5,
   "metadata": {},
   "outputs": [
    {
     "data": {
      "text/plain": [
       "6398"
      ]
     },
     "execution_count": 5,
     "metadata": {},
     "output_type": "execute_result"
    }
   ],
   "source": [
    "G = cast(DiGraph, nx.read_gml(PROCESSED_DATA_DIR / f\"LDoGI/quadtrees/{QUADTREE}\"))\n",
    "active_cells = [node for node in list(G.nodes) if G.nodes[node][\"state\"] == CellState.ACTIVE.value]\n",
    "num_classes = len(active_cells)\n",
    "num_classes"
   ]
  },
  {
   "cell_type": "code",
   "execution_count": 6,
   "metadata": {},
   "outputs": [],
   "source": [
    "def cf(*mini_batches):\n",
    "    ids_out = np.concatenate([i[0] for i in mini_batches[0]])\n",
    "    images_out = torch.cat([i[1] for i in mini_batches[0]])\n",
    "    labels_out = torch.cat([i[2] for i in mini_batches[0]])\n",
    "    label_names_out = np.concatenate([i[3] for i in mini_batches[0]])\n",
    "\n",
    "    return ids_out, images_out, labels_out, label_names_out"
   ]
  },
  {
   "cell_type": "code",
   "execution_count": 7,
   "metadata": {},
   "outputs": [],
   "source": [
    "train_data = LDoGIDataset(quadtree=QUADTREE, from_id=1, to_id=10000, env=PROJECT_ROOT / \".env\")"
   ]
  },
  {
   "cell_type": "code",
   "execution_count": 8,
   "metadata": {},
   "outputs": [],
   "source": [
    "def print_batch_stats(batch):\n",
    "    print(f\"ids: {batch[0]}\")\n",
    "    print(f\"ids shape: {batch[0].shape}\")\n",
    "    print(f\"ids dtype: {batch[0].dtype}\")\n",
    "    print()\n",
    "\n",
    "    print(f\"ims shape: {batch[1].shape}\")\n",
    "    print(f\"ims dtype: {batch[1].dtype}\")\n",
    "    print()\n",
    "\n",
    "    print(f\"labels shape: {batch[2].shape}\")\n",
    "    print(f\"labels sum: {batch[2].sum()}\")\n",
    "    print(f\"labels dtype: {batch[2].dtype}\")\n",
    "    print()\n",
    "\n",
    "    print(f\"labels name: {batch[3]}\")\n",
    "    print(f\"labels name shape: {batch[3].shape}\")\n",
    "    print(f\"labels name dtype: {batch[3].dtype}\")"
   ]
  },
  {
   "cell_type": "code",
   "execution_count": 9,
   "metadata": {},
   "outputs": [],
   "source": [
    "# individual sampling\n",
    "ind_loader = DataLoader(\n",
    "    train_data,\n",
    "    collate_fn=cf,\n",
    "    sampler=RandomSampler(train_data),\n",
    "    batch_size=BATCH_SIZE,\n",
    "    # num_workers=1,\n",
    "    # prefetch_factor=5,\n",
    ")"
   ]
  },
  {
   "cell_type": "code",
   "execution_count": 10,
   "metadata": {},
   "outputs": [],
   "source": [
    "ind_loader = LDoGIDataLoader(train_data, batch_size=BATCH_SIZE, fetch_mode=\"individual\", shuffle=False)"
   ]
  },
  {
   "cell_type": "code",
   "execution_count": 11,
   "metadata": {},
   "outputs": [],
   "source": [
    "A_iter = iter(ind_loader)"
   ]
  },
  {
   "cell_type": "code",
   "execution_count": 12,
   "metadata": {},
   "outputs": [],
   "source": [
    "A = next(A_iter)"
   ]
  },
  {
   "cell_type": "code",
   "execution_count": 13,
   "metadata": {},
   "outputs": [
    {
     "name": "stdout",
     "output_type": "stream",
     "text": [
      "ids: [   1    2    3    4    5    6    7    8    9   10   11   12   13   14\n",
      " 9954   16   17   18   19   20   21   22   23   24   25   26   27   28\n",
      "   29   30   31   32]\n",
      "ids shape: (32,)\n",
      "ids dtype: int64\n",
      "\n",
      "ims shape: torch.Size([32, 3, 224, 224])\n",
      "ims dtype: torch.float32\n",
      "\n",
      "labels shape: torch.Size([32, 6398])\n",
      "labels sum: 32.0\n",
      "labels dtype: torch.float32\n",
      "\n",
      "labels name: ['1200120013211231' '10223033123022' '12001003' '120012120' '21300002'\n",
      " '1310221303012' '1200020310201210' '12102' '313010' '31321011102202'\n",
      " '0123220' '1022202130101023' '1200102000' '030012310110212' '13203201333'\n",
      " '021032330' '021032012' '03002311332' '120012003' '021310130213'\n",
      " '0300010' '1003' '0302213211' '03113130' '0302232301123' '31332'\n",
      " '02112200213' '0211032303230' '31120' '021032333111' '03020332021'\n",
      " '10203122310321']\n",
      "labels name shape: (32,)\n",
      "labels name dtype: <U16\n"
     ]
    }
   ],
   "source": [
    "print_batch_stats(A)"
   ]
  },
  {
   "cell_type": "code",
   "execution_count": 14,
   "metadata": {},
   "outputs": [],
   "source": [
    "# batched sampling\n",
    "batched_loader = DataLoader(\n",
    "    train_data,\n",
    "    sampler=BatchSampler(RandomSampler(train_data), batch_size=32, drop_last=False),\n",
    "    collate_fn=lambda *mini_batches: mini_batches[0][0],\n",
    "    # num_workers=1,\n",
    "    # prefetch_factor=5,\n",
    ")"
   ]
  },
  {
   "cell_type": "code",
   "execution_count": 15,
   "metadata": {},
   "outputs": [],
   "source": [
    "batched_loader = LDoGIDataLoader(train_data, batch_size=BATCH_SIZE, shuffle=False)"
   ]
  },
  {
   "cell_type": "code",
   "execution_count": 16,
   "metadata": {},
   "outputs": [],
   "source": [
    "B_iter = iter(batched_loader)"
   ]
  },
  {
   "cell_type": "code",
   "execution_count": 17,
   "metadata": {},
   "outputs": [],
   "source": [
    "B = next(B_iter)"
   ]
  },
  {
   "cell_type": "code",
   "execution_count": 18,
   "metadata": {},
   "outputs": [
    {
     "name": "stdout",
     "output_type": "stream",
     "text": [
      "ids: [   1    2    3    4    5    6    7    8    9   10   11   12   13   14\n",
      " 9954   16   17   18   19   20   21   22   23   24   25   26   27   28\n",
      "   29   30   31   32]\n",
      "ids shape: (32,)\n",
      "ids dtype: int64\n",
      "\n",
      "ims shape: torch.Size([32, 3, 224, 224])\n",
      "ims dtype: torch.float32\n",
      "\n",
      "labels shape: torch.Size([32, 6398])\n",
      "labels sum: 32.0\n",
      "labels dtype: torch.float32\n",
      "\n",
      "labels name: ['1200120013211231' '10223033123022' '12001003' '120012120' '21300002'\n",
      " '1310221303012' '1200020310201210' '12102' '313010' '31321011102202'\n",
      " '0123220' '1022202130101023' '1200102000' '030012310110212' '13203201333'\n",
      " '021032330' '021032012' '03002311332' '120012003' '021310130213'\n",
      " '0300010' '1003' '0302213211' '03113130' '0302232301123' '31332'\n",
      " '02112200213' '0211032303230' '31120' '021032333111' '03020332021'\n",
      " '10203122310321']\n",
      "labels name shape: (32,)\n",
      "labels name dtype: <U16\n"
     ]
    }
   ],
   "source": [
    "print_batch_stats(B)"
   ]
  }
 ],
 "metadata": {
  "kernelspec": {
   "display_name": "locus-model",
   "language": "python",
   "name": "python3"
  },
  "language_info": {
   "codemirror_mode": {
    "name": "ipython",
    "version": 3
   },
   "file_extension": ".py",
   "mimetype": "text/x-python",
   "name": "python",
   "nbconvert_exporter": "python",
   "pygments_lexer": "ipython3",
   "version": "3.11.7"
  }
 },
 "nbformat": 4,
 "nbformat_minor": 2
}
