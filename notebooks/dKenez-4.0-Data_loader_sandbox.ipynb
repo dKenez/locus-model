{
 "cells": [
  {
   "cell_type": "code",
   "execution_count": 25,
   "metadata": {},
   "outputs": [],
   "source": [
    "import random\n",
    "\n",
    "import polars as pl\n"
   ]
  },
  {
   "cell_type": "code",
   "execution_count": 26,
   "metadata": {},
   "outputs": [],
   "source": [
    "# Create a DataFrame with a column called index and data fill with 15 records\n",
    "df1 = pl.LazyFrame(\n",
    "    {\n",
    "        \"index\": range(15),\n",
    "        \"data\": range(15),\n",
    "    }\n",
    ")"
   ]
  },
  {
   "cell_type": "code",
   "execution_count": 27,
   "metadata": {},
   "outputs": [
    {
     "data": {
      "text/html": [
       "<div><style>\n",
       ".dataframe > thead > tr,\n",
       ".dataframe > tbody > tr {\n",
       "  text-align: right;\n",
       "  white-space: pre-wrap;\n",
       "}\n",
       "</style>\n",
       "<small>shape: (15, 2)</small><table border=\"1\" class=\"dataframe\"><thead><tr><th>index</th><th>data</th></tr><tr><td>i64</td><td>i64</td></tr></thead><tbody><tr><td>0</td><td>0</td></tr><tr><td>1</td><td>1</td></tr><tr><td>2</td><td>2</td></tr><tr><td>3</td><td>3</td></tr><tr><td>4</td><td>4</td></tr><tr><td>5</td><td>5</td></tr><tr><td>6</td><td>6</td></tr><tr><td>7</td><td>7</td></tr><tr><td>8</td><td>8</td></tr><tr><td>9</td><td>9</td></tr><tr><td>10</td><td>10</td></tr><tr><td>11</td><td>11</td></tr><tr><td>12</td><td>12</td></tr><tr><td>13</td><td>13</td></tr><tr><td>14</td><td>14</td></tr></tbody></table></div>"
      ],
      "text/plain": [
       "shape: (15, 2)\n",
       "┌───────┬──────┐\n",
       "│ index ┆ data │\n",
       "│ ---   ┆ ---  │\n",
       "│ i64   ┆ i64  │\n",
       "╞═══════╪══════╡\n",
       "│ 0     ┆ 0    │\n",
       "│ 1     ┆ 1    │\n",
       "│ 2     ┆ 2    │\n",
       "│ 3     ┆ 3    │\n",
       "│ 4     ┆ 4    │\n",
       "│ …     ┆ …    │\n",
       "│ 10    ┆ 10   │\n",
       "│ 11    ┆ 11   │\n",
       "│ 12    ┆ 12   │\n",
       "│ 13    ┆ 13   │\n",
       "│ 14    ┆ 14   │\n",
       "└───────┴──────┘"
      ]
     },
     "execution_count": 27,
     "metadata": {},
     "output_type": "execute_result"
    }
   ],
   "source": [
    "df1.collect()"
   ]
  },
  {
   "cell_type": "code",
   "execution_count": 105,
   "metadata": {},
   "outputs": [],
   "source": [
    "# Create a new DataFrame with a column called index fill with 4 records with random non conflicting values between 0-15\n",
    "df2 = pl.LazyFrame(\n",
    "    {\n",
    "        \"excluded_id\": [2, 11, 13],\n",
    "    }\n",
    ")"
   ]
  },
  {
   "cell_type": "code",
   "execution_count": 106,
   "metadata": {},
   "outputs": [
    {
     "data": {
      "text/html": [
       "<div><style>\n",
       ".dataframe > thead > tr,\n",
       ".dataframe > tbody > tr {\n",
       "  text-align: right;\n",
       "  white-space: pre-wrap;\n",
       "}\n",
       "</style>\n",
       "<small>shape: (3, 1)</small><table border=\"1\" class=\"dataframe\"><thead><tr><th>excluded_id</th></tr><tr><td>i64</td></tr></thead><tbody><tr><td>2</td></tr><tr><td>11</td></tr><tr><td>13</td></tr></tbody></table></div>"
      ],
      "text/plain": [
       "shape: (3, 1)\n",
       "┌─────────────┐\n",
       "│ excluded_id │\n",
       "│ ---         │\n",
       "│ i64         │\n",
       "╞═════════════╡\n",
       "│ 2           │\n",
       "│ 11          │\n",
       "│ 13          │\n",
       "└─────────────┘"
      ]
     },
     "execution_count": 106,
     "metadata": {},
     "output_type": "execute_result"
    }
   ],
   "source": [
    "df2.collect()"
   ]
  },
  {
   "cell_type": "code",
   "execution_count": 107,
   "metadata": {},
   "outputs": [
    {
     "data": {
      "text/plain": [
       "[11, 8, 1, 3, 0, 5, 2, 10, 6, 9, 7, 4]"
      ]
     },
     "execution_count": 107,
     "metadata": {},
     "output_type": "execute_result"
    }
   ],
   "source": [
    "batch_size = 3\n",
    "# create list with 0-14 and shuffle it\n",
    "indices = list(range(df1.collect().shape[0]-df2.collect().shape[0]))\n",
    "random.shuffle(indices)\n",
    "indices"
   ]
  },
  {
   "cell_type": "code",
   "execution_count": 114,
   "metadata": {},
   "outputs": [],
   "source": [
    "def sanitise_indices(indices, val_len, df2):\n",
    "    ret_array = []\n",
    "    # check if the index is in the second dataframe\n",
    "    for i, idx in enumerate(indices):\n",
    "        # get the row number of the index in df2\n",
    "\n",
    "        is_sanitised = False\n",
    "        ret_idx = idx\n",
    "        while not is_sanitised:\n",
    "            matches = df2.with_row_index(offset=0).filter(pl.col(\"excluded_id\") == ret_idx).collect()\n",
    "            if matches.shape[0] > 0:\n",
    "                ret_idx = val_len + matches[\"index\"][0]\n",
    "            else:\n",
    "                is_sanitised = True\n",
    "                ret_array.append(ret_idx)\n",
    "    return ret_array"
   ]
  },
  {
   "cell_type": "code",
   "execution_count": 115,
   "metadata": {},
   "outputs": [
    {
     "data": {
      "text/plain": [
       "[0, 1, 12, 3, 4, 5, 6, 7, 8, 9, 10, 14]"
      ]
     },
     "execution_count": 115,
     "metadata": {},
     "output_type": "execute_result"
    }
   ],
   "source": [
    "indices = [0, 1, 2, 3, 4, 5, 6, 7, 8, 9, 10, 11]\n",
    "sanitise_indices(indices, df1.collect().shape[0]-df2.collect().shape[0], df2)"
   ]
  },
  {
   "cell_type": "code",
   "execution_count": 121,
   "metadata": {},
   "outputs": [],
   "source": [
    "# generator that yields the indices in batches\n",
    "def batch_indices(batch_size, indices):\n",
    "    for i in range(0, len(indices), batch_size):\n",
    "        ret_indices = indices[i:i+batch_size]\n",
    "        ret_indices = sanitise_indices(ret_indices, df1.collect().shape[0]-df2.collect().shape[0], df2)\n",
    "        yield ret_indices"
   ]
  },
  {
   "cell_type": "code",
   "execution_count": 122,
   "metadata": {},
   "outputs": [
    {
     "name": "stdout",
     "output_type": "stream",
     "text": [
      "[0, 1, 12]\n",
      "[3, 4, 5]\n",
      "[6, 7, 8]\n",
      "[9, 10, 14]\n"
     ]
    }
   ],
   "source": [
    "indices = list(range(df1.collect().shape[0]-df2.collect().shape[0]))\n",
    "for batch in batch_indices(batch_size, indices):\n",
    "    print(batch)"
   ]
  },
  {
   "cell_type": "code",
   "execution_count": null,
   "metadata": {},
   "outputs": [],
   "source": []
  }
 ],
 "metadata": {
  "kernelspec": {
   "display_name": "locus-model",
   "language": "python",
   "name": "python3"
  },
  "language_info": {
   "codemirror_mode": {
    "name": "ipython",
    "version": 3
   },
   "file_extension": ".py",
   "mimetype": "text/x-python",
   "name": "python",
   "nbconvert_exporter": "python",
   "pygments_lexer": "ipython3",
   "version": "3.11.7"
  }
 },
 "nbformat": 4,
 "nbformat_minor": 2
}
