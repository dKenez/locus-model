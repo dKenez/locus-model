{
 "cells": [
  {
   "cell_type": "code",
   "execution_count": 1,
   "metadata": {},
   "outputs": [],
   "source": [
    "import networkx as nx\n",
    "from area import area\n",
    "from locus.utils.cell_utils import cell_center\n",
    "from locus.utils.cell_utils import CellState, cell_bounds\n",
    "from locus.utils.paths import PROCESSED_DATA_DIR"
   ]
  },
  {
   "cell_type": "code",
   "execution_count": 2,
   "metadata": {},
   "outputs": [],
   "source": [
    "G = nx.read_gml(PROCESSED_DATA_DIR / \"LDoGI/quadtrees/qt_min10_max1000_df10pct.gml\")\n",
    "active_cells = [node for node in list(G.nodes) if G.nodes[node][\"state\"] == CellState.ACTIVE.value]"
   ]
  },
  {
   "cell_type": "code",
   "execution_count": 3,
   "metadata": {},
   "outputs": [
    {
     "data": {
      "text/plain": [
       "'0133133133102'"
      ]
     },
     "execution_count": 3,
     "metadata": {},
     "output_type": "execute_result"
    }
   ],
   "source": [
    "active_cells[1352]"
   ]
  },
  {
   "cell_type": "code",
   "execution_count": 4,
   "metadata": {},
   "outputs": [
    {
     "name": "stdout",
     "output_type": "stream",
     "text": [
      "{'south': 51.4599609375, 'north': 51.48193359375, 'west': -0.17578125, 'east': -0.1318359375}\n",
      "(51.470947265625, -0.15380859375)\n"
     ]
    }
   ],
   "source": [
    "cb = cell_bounds(active_cells[1352])\n",
    "cc = cell_center(active_cells[1352])\n",
    "cb = {\"south\": cb[0], \"north\": cb[1], \"west\": cb[2], \"east\": cb[3]}\n",
    "print(cb)\n",
    "print(cc)"
   ]
  },
  {
   "cell_type": "code",
   "execution_count": 5,
   "metadata": {},
   "outputs": [],
   "source": [
    "obj = {\n",
    "    \"type\": \"Polygon\",\n",
    "    \"coordinates\": [\n",
    "        [\n",
    "            [cb[\"west\"], cb[\"south\"]],\n",
    "            [cb[\"west\"], cb[\"north\"]],\n",
    "            [cb[\"east\"], cb[\"north\"]],\n",
    "            [cb[\"east\"], cb[\"south\"]],\n",
    "        ]\n",
    "    ],\n",
    "}"
   ]
  },
  {
   "cell_type": "code",
   "execution_count": 6,
   "metadata": {},
   "outputs": [
    {
     "data": {
      "text/plain": [
       "7453561.007267797"
      ]
     },
     "execution_count": 6,
     "metadata": {},
     "output_type": "execute_result"
    }
   ],
   "source": [
    "area(obj)"
   ]
  },
  {
   "cell_type": "code",
   "execution_count": 7,
   "metadata": {},
   "outputs": [],
   "source": [
    "from geopy import distance"
   ]
  },
  {
   "cell_type": "code",
   "execution_count": 8,
   "metadata": {},
   "outputs": [],
   "source": [
    "import math\n",
    "\n",
    "def haversine(lat1, lon1, lat2, lon2):\n",
    "    \"\"\"\n",
    "    Calculate the great-circle distance between two points \n",
    "    on the Earth's surface given their latitude and longitude\n",
    "    in decimal degrees.\n",
    "    \"\"\"\n",
    "    # Convert decimal degrees to radians\n",
    "    lat1, lon1, lat2, lon2 = map(math.radians, [lat1, lon1, lat2, lon2])\n",
    "\n",
    "    # Haversine formula\n",
    "    dlat = lat2 - lat1\n",
    "    dlon = lon2 - lon1\n",
    "    a = math.sin(dlat/2)**2 + math.cos(lat1) * math.cos(lat2) * math.sin(dlon/2)**2\n",
    "    c = 2 * math.atan2(math.sqrt(a), math.sqrt(1-a))\n",
    "    distance = 6371 * c  # Earth radius in kilometers\n",
    "    return distance\n",
    "\n",
    "def distance_to_square(lat, lon, south_lat, north_lat, west_lon, east_lon):\n",
    "    \"\"\"\n",
    "    Calculate the distance between a latitude-longitude coordinate \n",
    "    and a square bounded by south latitude, north latitude, \n",
    "    west longitude, and east longitude.\n",
    "    \"\"\"\n",
    "    # Check if the point is within the latitude and longitude bounds of the square\n",
    "    if south_lat <= lat <= north_lat and west_lon <= lon <= east_lon:\n",
    "        return 0.0  # The point is inside the square\n",
    "\n",
    "    # Calculate the distance to each edge of the square\n",
    "    distances = [\n",
    "        haversine(lat, lon, south_lat, lon),   # Distance to south edge\n",
    "        haversine(lat, lon, north_lat, lon),   # Distance to north edge\n",
    "        haversine(lat, lon, lat, west_lon),    # Distance to west edge\n",
    "        haversine(lat, lon, lat, east_lon)     # Distance to east edge\n",
    "    ]\n",
    "\n",
    "    # Return the minimum distance to any edge of the square\n",
    "    return min(distances)"
   ]
  },
  {
   "cell_type": "code",
   "execution_count": 9,
   "metadata": {},
   "outputs": [],
   "source": [
    "def distance_to_square2(lat, lon, south_lat, north_lat, west_lon, east_lon):\n",
    "    \"\"\"\n",
    "    Calculate the distance between a latitude-longitude coordinate\n",
    "    and a square bounded by south latitude, north latitude,\n",
    "    west longitude, and east longitude.\n",
    "    \"\"\"\n",
    "    # Check if the point is within the latitude and longitude bounds of the square\n",
    "    if south_lat <= lat <= north_lat and west_lon <= lon <= east_lon:\n",
    "        return 0.0  # The point is inside the square\n",
    "\n",
    "    def clamp(n, low, high):\n",
    "        return max(low, min(n, high))\n",
    "\n",
    "    # Calculate the distance to each edge of the square\n",
    "    distances = [\n",
    "        distance.great_circle((lat, lon), (south_lat, clamp(lon, west_lon, east_lon))),  # Distance to south edge\n",
    "        distance.great_circle((lat, lon), (north_lat, clamp(lon, west_lon, east_lon))),  # Distance to north edge\n",
    "        distance.great_circle((lat, lon), (clamp(lat, south_lat, north_lat), west_lon)),  # Distance to west edge\n",
    "        distance.great_circle((lat, lon), (clamp(lat, south_lat, north_lat), east_lon)),  # Distance to east edge\n",
    "    ]\n",
    "\n",
    "    # Return the minimum distance to any edge of the square\n",
    "    return min(distances)"
   ]
  },
  {
   "cell_type": "code",
   "execution_count": 10,
   "metadata": {},
   "outputs": [
    {
     "name": "stdout",
     "output_type": "stream",
     "text": [
      "Distance to square: 31.935182932317066 km\n",
      "Distance to square: 84.78985423622076 km km\n"
     ]
    }
   ],
   "source": [
    "# Example usage:\n",
    "lat = 40.7128  # Latitude of the point\n",
    "lon = -76.0060  # Longitude of the point\n",
    "south_lat = 40.0  # South latitude of the square\n",
    "north_lat = 41.0  # North latitude of the square\n",
    "west_lon = -75.0  # West longitude of the square\n",
    "east_lon = -73.0  # East longitude of the square\n",
    "\n",
    "d = distance_to_square(lat, lon, south_lat, north_lat, west_lon, east_lon)\n",
    "print(\"Distance to square:\", d, \"km\")\n",
    "\n",
    "\n",
    "d2 = distance_to_square2(lat, lon, south_lat, north_lat, west_lon, east_lon)\n",
    "print(\"Distance to square:\", d2, \"km\")"
   ]
  },
  {
   "cell_type": "code",
   "execution_count": 11,
   "metadata": {},
   "outputs": [
    {
     "data": {
      "text/plain": [
       "170.98580126944051"
      ]
     },
     "execution_count": 11,
     "metadata": {},
     "output_type": "execute_result"
    }
   ],
   "source": [
    "haversine(lat, lon, (south_lat+north_lat)/2, (west_lon+east_lon)/2)"
   ]
  },
  {
   "cell_type": "code",
   "execution_count": 12,
   "metadata": {},
   "outputs": [
    {
     "data": {
      "text/plain": [
       "170.9860428127165"
      ]
     },
     "execution_count": 12,
     "metadata": {},
     "output_type": "execute_result"
    }
   ],
   "source": [
    "distance.great_circle((lat, lon), ((south_lat+north_lat)/2, (west_lon+east_lon)/2)).km"
   ]
  },
  {
   "cell_type": "code",
   "execution_count": 13,
   "metadata": {},
   "outputs": [
    {
     "data": {
      "text/plain": [
       "171.40790026529942"
      ]
     },
     "execution_count": 13,
     "metadata": {},
     "output_type": "execute_result"
    }
   ],
   "source": [
    "distance.distance((lat, lon), ((south_lat+north_lat)/2, (west_lon+east_lon)/2)).km"
   ]
  },
  {
   "cell_type": "code",
   "execution_count": 14,
   "metadata": {},
   "outputs": [
    {
     "data": {
      "text/plain": [
       "Distance(84.78985423622076)"
      ]
     },
     "execution_count": 14,
     "metadata": {},
     "output_type": "execute_result"
    }
   ],
   "source": [
    "distance_to_square2(lat, lon, south_lat, north_lat, west_lon, east_lon)"
   ]
  },
  {
   "cell_type": "code",
   "execution_count": 17,
   "metadata": {},
   "outputs": [
    {
     "data": {
      "text/plain": [
       "84.78985423622076"
      ]
     },
     "execution_count": 17,
     "metadata": {},
     "output_type": "execute_result"
    }
   ],
   "source": [
    "d2.km"
   ]
  }
 ],
 "metadata": {
  "kernelspec": {
   "display_name": "locus-model",
   "language": "python",
   "name": "python3"
  },
  "language_info": {
   "codemirror_mode": {
    "name": "ipython",
    "version": 3
   },
   "file_extension": ".py",
   "mimetype": "text/x-python",
   "name": "python",
   "nbconvert_exporter": "python",
   "pygments_lexer": "ipython3",
   "version": "3.11.7"
  }
 },
 "nbformat": 4,
 "nbformat_minor": 2
}
