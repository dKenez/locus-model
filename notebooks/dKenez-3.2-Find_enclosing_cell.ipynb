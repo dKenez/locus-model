{
 "cells": [
  {
   "cell_type": "code",
   "execution_count": 2,
   "metadata": {},
   "outputs": [],
   "source": [
    "import time\n",
    "from functools import reduce\n",
    "from pathlib import Path\n",
    "\n",
    "import networkx as nx\n",
    "import polars as pl\n",
    "\n",
    "from locus.utils.pl_utils import batch_iter\n",
    "from tqdm import tqdm\n",
    "\n",
    "%matplotlib widget"
   ]
  },
  {
   "cell_type": "code",
   "execution_count": 3,
   "metadata": {},
   "outputs": [],
   "source": [
    "PROJECT_ROOT = Path().cwd().parent\n",
    "PROCESSED_DATA_DIR = PROJECT_ROOT / \"data\" / \"processed\""
   ]
  },
  {
   "cell_type": "code",
   "execution_count": 4,
   "metadata": {},
   "outputs": [
    {
     "name": "stdout",
     "output_type": "stream",
     "text": [
      "shape: (5, 4)\n",
      "┌─────┬────────────┬────────────┬───────────────────────────────────┐\n",
      "│ id  ┆ latitude   ┆ longitude  ┆ image                             │\n",
      "│ --- ┆ ---        ┆ ---        ┆ ---                               │\n",
      "│ i64 ┆ f64        ┆ f64        ┆ binary                            │\n",
      "╞═════╪════════════╪════════════╪═══════════════════════════════════╡\n",
      "│ 0   ┆ 41.906     ┆ 12.455     ┆ b\"\\xff\\xd8\\xff\\xe0\\x00\\x10JFIF\\x… │\n",
      "│ 1   ┆ 48.211072  ┆ 16.36736   ┆ b\"\\xff\\xd8\\xff\\xe0\\x00\\x10JFIF\\x… │\n",
      "│ 2   ┆ 43.942876  ┆ 12.774091  ┆ b\"\\xff\\xd8\\xff\\xe0\\x00\\x10JFIF\\x… │\n",
      "│ 3   ┆ 41.339055  ┆ 14.507789  ┆ b\"\\xff\\xd8\\xff\\xe0\\x00\\x10JFIF\\x… │\n",
      "│ 4   ┆ -23.210269 ┆ -44.693223 ┆ b\"\\xff\\xd8\\xff\\xe0\\x00\\x10JFIF\\x… │\n",
      "└─────┴────────────┴────────────┴───────────────────────────────────┘\n"
     ]
    },
    {
     "data": {
      "text/plain": [
       "3993900"
      ]
     },
     "execution_count": 4,
     "metadata": {},
     "output_type": "execute_result"
    }
   ],
   "source": [
    "df = pl.scan_parquet(PROCESSED_DATA_DIR / \"LDoGI/shards/*.parquet\")\n",
    "print(df.head().collect())\n",
    "c = df.select(pl.len()).collect()[\"len\"][0] # count\n",
    "c"
   ]
  },
  {
   "cell_type": "code",
   "execution_count": 5,
   "metadata": {},
   "outputs": [
    {
     "name": "stdout",
     "output_type": "stream",
     "text": [
      "shape: (5, 2)\n",
      "┌────────────┬────────────┐\n",
      "│ latitude   ┆ longitude  │\n",
      "│ ---        ┆ ---        │\n",
      "│ f64        ┆ f64        │\n",
      "╞════════════╪════════════╡\n",
      "│ 41.906     ┆ 12.455     │\n",
      "│ 48.211072  ┆ 16.36736   │\n",
      "│ 43.942876  ┆ 12.774091  │\n",
      "│ 41.339055  ┆ 14.507789  │\n",
      "│ -23.210269 ┆ -44.693223 │\n",
      "└────────────┴────────────┘\n"
     ]
    },
    {
     "data": {
      "text/plain": [
       "3993900"
      ]
     },
     "execution_count": 5,
     "metadata": {},
     "output_type": "execute_result"
    }
   ],
   "source": [
    "df = pl.scan_parquet(PROCESSED_DATA_DIR / \"LDoGI/shards/*.parquet\")\n",
    "df = df.drop(\"id\", \"image\")\n",
    "print(df.head().collect())\n",
    "c = df.select(pl.len()).collect()[\"len\"][0] # count\n",
    "c"
   ]
  },
  {
   "cell_type": "code",
   "execution_count": 6,
   "metadata": {},
   "outputs": [],
   "source": [
    "G = nx.read_gml(PROCESSED_DATA_DIR / \"LDoGI/quadtrees/qt_min50_max5000_df100pct.gml\")"
   ]
  },
  {
   "cell_type": "code",
   "execution_count": 10,
   "metadata": {},
   "outputs": [
    {
     "data": {
      "text/plain": [
       "1462"
      ]
     },
     "execution_count": 10,
     "metadata": {},
     "output_type": "execute_result"
    }
   ],
   "source": [
    "G = nx.read_gml(PROCESSED_DATA_DIR / \"LDoGI/quadtrees/qt_min10_max1000_df10pct.gml\")\n",
    "active_cells = [node for node in list(G.nodes) if G.nodes[node][\"state\"] == CellState.ACTIVE]\n",
    "len(active_cells)\n"
   ]
  },
  {
   "cell_type": "code",
   "execution_count": 8,
   "metadata": {},
   "outputs": [],
   "source": [
    "# create enum of cell states\n",
    "class CellState:\n",
    "    STOPPED = 0\n",
    "    EVALUATING = 1\n",
    "    ACTIVE = 2"
   ]
  },
  {
   "cell_type": "code",
   "execution_count": 8,
   "metadata": {},
   "outputs": [],
   "source": [
    "active_cells = [node for node in list(G.nodes) if G.nodes[node][\"state\"] == CellState.ACTIVE]"
   ]
  },
  {
   "cell_type": "code",
   "execution_count": 9,
   "metadata": {},
   "outputs": [
    {
     "name": "stdout",
     "output_type": "stream",
     "text": [
      "{}\n",
      "{'state': 2}\n"
     ]
    }
   ],
   "source": [
    "cell = \"132023110331\"\n",
    "print(G[cell])\n",
    "print(G.nodes[cell])"
   ]
  },
  {
   "cell_type": "code",
   "execution_count": 10,
   "metadata": {},
   "outputs": [
    {
     "data": {
      "text/plain": [
       "{'132023110': {}, '132023111': {}, '132023112': {}, '132023113': {}}"
      ]
     },
     "execution_count": 10,
     "metadata": {},
     "output_type": "execute_result"
    }
   ],
   "source": [
    "{'132023110': {}, '132023111': {}, '132023112': {}, '132023113': {}}"
   ]
  },
  {
   "cell_type": "code",
   "execution_count": 11,
   "metadata": {},
   "outputs": [
    {
     "data": {
      "text/plain": [
       "2857"
      ]
     },
     "execution_count": 11,
     "metadata": {},
     "output_type": "execute_result"
    }
   ],
   "source": [
    "len(active_cells)"
   ]
  },
  {
   "cell_type": "code",
   "execution_count": 12,
   "metadata": {},
   "outputs": [
    {
     "data": {
      "text/plain": [
       "'11'"
      ]
     },
     "execution_count": 12,
     "metadata": {},
     "output_type": "execute_result"
    }
   ],
   "source": [
    "active_cells[0]"
   ]
  },
  {
   "cell_type": "code",
   "execution_count": 13,
   "metadata": {},
   "outputs": [
    {
     "name": "stdout",
     "output_type": "stream",
     "text": [
      "15\n",
      "9.334616730836542\n"
     ]
    }
   ],
   "source": [
    "sum_path_lens = reduce(lambda s, x: s + len(x), active_cells, 0)\n",
    "max_path_len = max([len(x) for x in active_cells])\n",
    "count_active_cells = len(active_cells)\n",
    "\n",
    "avg_path_len = sum_path_lens / count_active_cells\n",
    "print(max_path_len)\n",
    "print(avg_path_len)"
   ]
  },
  {
   "cell_type": "code",
   "execution_count": 14,
   "metadata": {},
   "outputs": [],
   "source": [
    "import torch\n",
    "def calc_enclosing_cell(lon: float, lat: float, active_cells: list[str]):\n",
    "    \"\"\"\n",
    "    Given a point (lon, lat) and a graph, return the cell that encloses the point.\n",
    "    \"\"\"\n",
    "\n",
    "    def get_next_cell(lon: float, lat: float, west_lon: float, east_lon: float, south_lat: float, north_lat: float):\n",
    "        ret_west_lon = west_lon\n",
    "        ret_east_lon = east_lon\n",
    "        ret_south_lat = south_lat\n",
    "        ret_north_lat = north_lat\n",
    "\n",
    "        quad = 0\n",
    "\n",
    "        half_lon = (west_lon + east_lon) / 2\n",
    "        if lon >= half_lon:\n",
    "            quad += 1\n",
    "            ret_west_lon = half_lon\n",
    "        else:\n",
    "            ret_east_lon = half_lon\n",
    "\n",
    "        half_lat = (south_lat + north_lat) / 2\n",
    "        if lat < half_lat:\n",
    "            quad += 2\n",
    "            ret_north_lat = half_lat\n",
    "        else:\n",
    "            ret_south_lat = half_lat\n",
    "\n",
    "        return quad, (ret_west_lon, ret_east_lon, ret_south_lat, ret_north_lat)\n",
    "\n",
    "    west_lon = torch.tensor(-180, dtype=torch.float32)\n",
    "    east_lon = torch.tensor(180, dtype=torch.float32)\n",
    "    south_lat = torch.tensor(-90, dtype=torch.float32)\n",
    "    north_lat = torch.tensor(90, dtype=torch.float32)\n",
    "\n",
    "    cell = \"\"\n",
    "    cell_pool = [c for c in active_cells]\n",
    "\n",
    "    while True:\n",
    "        if cell == '13202311033':\n",
    "            pass\n",
    "        quad, (west_lon, east_lon, south_lat, north_lat) = get_next_cell(\n",
    "            lon, lat, west_lon, east_lon, south_lat, north_lat\n",
    "        )\n",
    "\n",
    "        cell += str(quad)\n",
    "        cell_pool = [c for c in cell_pool if c.startswith(cell)]\n",
    "\n",
    "        if len(cell_pool) == 1 and cell == cell_pool[0]:\n",
    "            return cell\n",
    "\n",
    "        if len(cell_pool) == 0:\n",
    "            f\"Not found: {cell}\"\n",
    "            return None"
   ]
  },
  {
   "cell_type": "code",
   "execution_count": 15,
   "metadata": {},
   "outputs": [
    {
     "data": {
      "text/plain": [
       "'132023110331'"
      ]
     },
     "execution_count": 15,
     "metadata": {},
     "output_type": "execute_result"
    }
   ],
   "source": [
    "calc_enclosing_cell(100.458984, 13.75806, active_cells)"
   ]
  },
  {
   "cell_type": "code",
   "execution_count": 34,
   "metadata": {},
   "outputs": [
    {
     "name": "stdout",
     "output_type": "stream",
     "text": [
      "shape: (128, 2)\n",
      "┌────────────┬────────────┐\n",
      "│ latitude   ┆ longitude  │\n",
      "│ ---        ┆ ---        │\n",
      "│ f64        ┆ f64        │\n",
      "╞════════════╪════════════╡\n",
      "│ 41.906     ┆ 12.455     │\n",
      "│ 48.211072  ┆ 16.36736   │\n",
      "│ 43.942876  ┆ 12.774091  │\n",
      "│ 41.339055  ┆ 14.507789  │\n",
      "│ -23.210269 ┆ -44.693223 │\n",
      "│ …          ┆ …          │\n",
      "│ 55.679973  ┆ 12.571996  │\n",
      "│ 47.954639  ┆ 13.500051  │\n",
      "│ 40.769967  ┆ -73.993327 │\n",
      "│ 43.633838  ┆ 1.381359   │\n",
      "│ 35.778306  ┆ -78.633828 │\n",
      "└────────────┴────────────┘\n"
     ]
    }
   ],
   "source": [
    "h = df.head(128).collect()\n",
    "print(h)"
   ]
  },
  {
   "cell_type": "code",
   "execution_count": 17,
   "metadata": {},
   "outputs": [
    {
     "data": {
      "text/plain": [
       "(38.700515, -9.056854)"
      ]
     },
     "execution_count": 17,
     "metadata": {},
     "output_type": "execute_result"
    }
   ],
   "source": [
    "# get 14th element as list\n",
    "h.row(14)"
   ]
  },
  {
   "cell_type": "code",
   "execution_count": 18,
   "metadata": {},
   "outputs": [],
   "source": [
    "problem_line = calc_enclosing_cell(h.row(14)[1], h.row(14)[0], active_cells)"
   ]
  },
  {
   "cell_type": "code",
   "execution_count": 19,
   "metadata": {},
   "outputs": [
    {
     "name": "stdout",
     "output_type": "stream",
     "text": [
      "031130013\n"
     ]
    }
   ],
   "source": [
    "print(problem_line)"
   ]
  },
  {
   "cell_type": "code",
   "execution_count": 35,
   "metadata": {},
   "outputs": [
    {
     "name": "stdout",
     "output_type": "stream",
     "text": [
      "run 0 took: 0.0889139175415039s\n",
      "run 1 took: 0.07351016998291016s\n",
      "run 2 took: 0.06662344932556152s\n",
      "run 3 took: 0.06803321838378906s\n",
      "run 4 took: 0.06723761558532715s\n",
      "\n",
      "average: 0.07286367416381836s\n"
     ]
    }
   ],
   "source": [
    "avg_time = 0\n",
    "runs = 5\n",
    "\n",
    "for run_i in range(runs):\n",
    "    start_time = time.time()\n",
    "\n",
    "    for i, row in enumerate(h.iter_rows()):\n",
    "        calc_enclosing_cell(row[1], row[0], active_cells)\n",
    "\n",
    "\n",
    "    end_time = time.time()\n",
    "    avg_time += end_time - start_time\n",
    "    print(f\"run {run_i} took: {end_time - start_time}s\")\n",
    "\n",
    "print()\n",
    "print(f\"average: {avg_time/runs}s\")"
   ]
  },
  {
   "cell_type": "code",
   "execution_count": 32,
   "metadata": {},
   "outputs": [
    {
     "data": {
      "text/plain": [
       "0.068505856"
      ]
     },
     "execution_count": 32,
     "metadata": {},
     "output_type": "execute_result"
    }
   ],
   "source": [
    "5.35202*128/10000"
   ]
  },
  {
   "cell_type": "code",
   "execution_count": 33,
   "metadata": {},
   "outputs": [
    {
     "data": {
      "text/plain": [
       "2247.8484000000003"
      ]
     },
     "execution_count": 33,
     "metadata": {},
     "output_type": "execute_result"
    }
   ],
   "source": [
    "4_200_000*5.35202/10000"
   ]
  },
  {
   "cell_type": "code",
   "execution_count": 24,
   "metadata": {},
   "outputs": [
    {
     "data": {
      "text/plain": [
       "2857"
      ]
     },
     "execution_count": 24,
     "metadata": {},
     "output_type": "execute_result"
    }
   ],
   "source": [
    "len(active_cells)"
   ]
  },
  {
   "cell_type": "code",
   "execution_count": 25,
   "metadata": {},
   "outputs": [],
   "source": [
    "def cell_bounds(cell: str):\n",
    "    west_long = -180\n",
    "    east_long = 180\n",
    "    south_lat = -90\n",
    "    north_lat = 90\n",
    "\n",
    "    for divide in cell:\n",
    "        if int(divide) < 2:\n",
    "            south_lat = (south_lat + north_lat) / 2\n",
    "        else:\n",
    "            north_lat = (south_lat + north_lat) / 2\n",
    "\n",
    "        if int(divide) % 2 == 0:\n",
    "            east_long = (west_long + east_long) / 2\n",
    "        else:\n",
    "            west_long = (west_long + east_long) / 2\n",
    "\n",
    "    return south_lat, north_lat, west_long, east_long"
   ]
  },
  {
   "cell_type": "code",
   "execution_count": 26,
   "metadata": {},
   "outputs": [
    {
     "name": "stdout",
     "output_type": "stream",
     "text": [
      "run 0 took: 0.0017485618591308594s\n",
      "run 1 took: 0.0016384124755859375s\n",
      "run 2 took: 0.0020799636840820312s\n",
      "run 3 took: 0.0016498565673828125s\n",
      "run 4 took: 0.0016698837280273438s\n",
      "\n",
      "average: 0.001757335662841797s\n"
     ]
    }
   ],
   "source": [
    "avg_time = 0\n",
    "runs = 5\n",
    "\n",
    "for run_i in range(runs):\n",
    "    start_time = time.time()\n",
    "\n",
    "    for cell in enumerate(active_cells):\n",
    "        cell_bounds(cell)\n",
    "\n",
    "\n",
    "    end_time = time.time()\n",
    "    avg_time += end_time - start_time\n",
    "    print(f\"run {run_i} took: {end_time - start_time}s\")\n",
    "\n",
    "print()\n",
    "print(f\"average: {avg_time/runs}s\")"
   ]
  }
 ],
 "metadata": {
  "kernelspec": {
   "display_name": "locus-model",
   "language": "python",
   "name": "python3"
  },
  "language_info": {
   "codemirror_mode": {
    "name": "ipython",
    "version": 3
   },
   "file_extension": ".py",
   "mimetype": "text/x-python",
   "name": "python",
   "nbconvert_exporter": "python",
   "pygments_lexer": "ipython3",
   "version": "3.11.7"
  }
 },
 "nbformat": 4,
 "nbformat_minor": 2
}
