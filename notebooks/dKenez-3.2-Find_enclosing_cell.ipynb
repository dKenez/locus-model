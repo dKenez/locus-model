{
 "cells": [
  {
   "cell_type": "code",
   "execution_count": 2,
   "metadata": {},
   "outputs": [],
   "source": [
    "import time\n",
    "from functools import reduce\n",
    "from pathlib import Path\n",
    "\n",
    "import networkx as nx\n",
    "import polars as pl\n",
    "from locus.utils.pl_utils import batch_iter\n",
    "from tqdm import tqdm\n",
    "\n",
    "%matplotlib widget"
   ]
  },
  {
   "cell_type": "code",
   "execution_count": 3,
   "metadata": {},
   "outputs": [],
   "source": [
    "PROJECT_ROOT = Path().cwd().parent\n",
    "PROCESSED_DATA_DIR = PROJECT_ROOT / \"data\" / \"processed\""
   ]
  },
  {
   "cell_type": "code",
   "execution_count": 4,
   "metadata": {},
   "outputs": [
    {
     "name": "stdout",
     "output_type": "stream",
     "text": [
      "shape: (5, 4)\n",
      "┌─────┬────────────┬────────────┬───────────────────────────────────┐\n",
      "│ id  ┆ latitude   ┆ longitude  ┆ image                             │\n",
      "│ --- ┆ ---        ┆ ---        ┆ ---                               │\n",
      "│ i64 ┆ f64        ┆ f64        ┆ binary                            │\n",
      "╞═════╪════════════╪════════════╪═══════════════════════════════════╡\n",
      "│ 0   ┆ 41.906     ┆ 12.455     ┆ b\"\\xff\\xd8\\xff\\xe0\\x00\\x10JFIF\\x… │\n",
      "│ 1   ┆ 48.211072  ┆ 16.36736   ┆ b\"\\xff\\xd8\\xff\\xe0\\x00\\x10JFIF\\x… │\n",
      "│ 2   ┆ 43.942876  ┆ 12.774091  ┆ b\"\\xff\\xd8\\xff\\xe0\\x00\\x10JFIF\\x… │\n",
      "│ 3   ┆ 41.339055  ┆ 14.507789  ┆ b\"\\xff\\xd8\\xff\\xe0\\x00\\x10JFIF\\x… │\n",
      "│ 4   ┆ -23.210269 ┆ -44.693223 ┆ b\"\\xff\\xd8\\xff\\xe0\\x00\\x10JFIF\\x… │\n",
      "└─────┴────────────┴────────────┴───────────────────────────────────┘\n"
     ]
    },
    {
     "data": {
      "text/plain": [
       "3993900"
      ]
     },
     "execution_count": 4,
     "metadata": {},
     "output_type": "execute_result"
    }
   ],
   "source": [
    "df = pl.scan_parquet(PROCESSED_DATA_DIR / \"LDoGI/shards/*.parquet\")\n",
    "print(df.head().collect())\n",
    "c = df.select(pl.len()).collect()[\"len\"][0] # count\n",
    "c"
   ]
  },
  {
   "cell_type": "code",
   "execution_count": 19,
   "metadata": {},
   "outputs": [
    {
     "name": "stdout",
     "output_type": "stream",
     "text": [
      "shape: (5, 2)\n",
      "┌────────────┬────────────┐\n",
      "│ latitude   ┆ longitude  │\n",
      "│ ---        ┆ ---        │\n",
      "│ f64        ┆ f64        │\n",
      "╞════════════╪════════════╡\n",
      "│ 41.906     ┆ 12.455     │\n",
      "│ 48.211072  ┆ 16.36736   │\n",
      "│ 43.942876  ┆ 12.774091  │\n",
      "│ 41.339055  ┆ 14.507789  │\n",
      "│ -23.210269 ┆ -44.693223 │\n",
      "└────────────┴────────────┘\n"
     ]
    },
    {
     "data": {
      "text/plain": [
       "4233900"
      ]
     },
     "execution_count": 19,
     "metadata": {},
     "output_type": "execute_result"
    }
   ],
   "source": [
    "df = pl.scan_parquet(PROCESSED_DATA_DIR / \"LDoGI/shards/*.parquet\")\n",
    "df = df.drop(\"id\", \"image\")\n",
    "print(df.head().collect())\n",
    "c = df.select(pl.len()).collect()[\"len\"][0] # count\n",
    "c"
   ]
  },
  {
   "cell_type": "code",
   "execution_count": 20,
   "metadata": {},
   "outputs": [],
   "source": [
    "G = nx.read_gml(PROCESSED_DATA_DIR / \"LDoGI/quadtrees/quadtree.gml\")"
   ]
  },
  {
   "cell_type": "code",
   "execution_count": 21,
   "metadata": {},
   "outputs": [],
   "source": [
    "# create enum of cell states\n",
    "class CellState:\n",
    "    STOPPED = 0\n",
    "    EVALUATING = 1\n",
    "    ACTIVE = 2"
   ]
  },
  {
   "cell_type": "code",
   "execution_count": 22,
   "metadata": {},
   "outputs": [],
   "source": [
    "active_cells = [node for node in list(G.nodes) if G.nodes[node][\"state\"] == CellState.ACTIVE]"
   ]
  },
  {
   "cell_type": "code",
   "execution_count": 23,
   "metadata": {},
   "outputs": [
    {
     "data": {
      "text/plain": [
       "6398"
      ]
     },
     "execution_count": 23,
     "metadata": {},
     "output_type": "execute_result"
    }
   ],
   "source": [
    "len(active_cells)"
   ]
  },
  {
   "cell_type": "code",
   "execution_count": 25,
   "metadata": {},
   "outputs": [
    {
     "data": {
      "text/plain": [
       "'000'"
      ]
     },
     "execution_count": 25,
     "metadata": {},
     "output_type": "execute_result"
    }
   ],
   "source": [
    "active_cells[0]"
   ]
  },
  {
   "cell_type": "code",
   "execution_count": 26,
   "metadata": {},
   "outputs": [
    {
     "name": "stdout",
     "output_type": "stream",
     "text": [
      "18\n",
      "10.36214442013129\n"
     ]
    }
   ],
   "source": [
    "sum_path_lens = reduce(lambda s, x: s + len(x), active_cells, 0)\n",
    "max_path_len = max([len(x) for x in active_cells])\n",
    "count_active_cells = len(active_cells)\n",
    "\n",
    "avg_path_len = sum_path_lens / count_active_cells\n",
    "print(max_path_len)\n",
    "print(avg_path_len)"
   ]
  },
  {
   "cell_type": "code",
   "execution_count": 27,
   "metadata": {},
   "outputs": [],
   "source": [
    "def calc_enclosing_cell(lon: float, lat: float, active_cells: list[str]):\n",
    "    \"\"\"\n",
    "    Given a point (lon, lat) and a graph, return the cell that encloses the point.\n",
    "    \"\"\"\n",
    "\n",
    "    def get_next_cell(lon: float, lat: float, west_lon: float, east_lon: float, south_lat: float, north_lat: float):\n",
    "        ret_west_lon = west_lon\n",
    "        ret_east_lon = east_lon\n",
    "        ret_south_lat = south_lat\n",
    "        ret_north_lat = north_lat\n",
    "\n",
    "        quad = 0\n",
    "\n",
    "        half_lon = (west_lon + east_lon) / 2\n",
    "        if lon > half_lon:\n",
    "            quad += 1\n",
    "            ret_west_lon = half_lon\n",
    "        else:\n",
    "            ret_east_lon = half_lon\n",
    "\n",
    "        half_lat = (south_lat + north_lat) / 2\n",
    "        if lat < half_lat:\n",
    "            quad += 2\n",
    "            ret_north_lat = half_lat\n",
    "        else:\n",
    "            ret_south_lat = half_lat\n",
    "\n",
    "        return quad, (ret_west_lon, ret_east_lon, ret_south_lat, ret_north_lat)\n",
    "\n",
    "    west_lon = -180\n",
    "    east_lon = 180\n",
    "    south_lat = -90\n",
    "    north_lat = 90\n",
    "\n",
    "    cell = \"\"\n",
    "    cell_pool = [c for c in active_cells]\n",
    "\n",
    "    while True:\n",
    "        quad, (west_lon, east_lon, south_lat, north_lat) = get_next_cell(\n",
    "            lon, lat, west_lon, east_lon, south_lat, north_lat\n",
    "        )\n",
    "\n",
    "        cell += str(quad)\n",
    "        cell_pool = [c for c in cell_pool if c.startswith(cell)]\n",
    "\n",
    "        if len(cell_pool) == 1 and cell == cell_pool[0]:\n",
    "            return cell\n",
    "\n",
    "        if len(cell_pool) == 0:\n",
    "            f\"Not found: {cell}\"\n",
    "            return None"
   ]
  },
  {
   "cell_type": "code",
   "execution_count": 28,
   "metadata": {},
   "outputs": [
    {
     "data": {
      "text/plain": [
       "'1200120013211231'"
      ]
     },
     "execution_count": 28,
     "metadata": {},
     "output_type": "execute_result"
    }
   ],
   "source": [
    "calc_enclosing_cell(12.455, 41.906, active_cells)"
   ]
  },
  {
   "cell_type": "code",
   "execution_count": 29,
   "metadata": {},
   "outputs": [
    {
     "name": "stdout",
     "output_type": "stream",
     "text": [
      "shape: (10_000, 2)\n",
      "┌────────────┬─────────────┐\n",
      "│ latitude   ┆ longitude   │\n",
      "│ ---        ┆ ---         │\n",
      "│ f64        ┆ f64         │\n",
      "╞════════════╪═════════════╡\n",
      "│ 41.906     ┆ 12.455      │\n",
      "│ 48.211072  ┆ 16.36736    │\n",
      "│ 43.942876  ┆ 12.774091   │\n",
      "│ 41.339055  ┆ 14.507789   │\n",
      "│ -23.210269 ┆ -44.693223  │\n",
      "│ …          ┆ …           │\n",
      "│ 34.13809   ┆ -118.353404 │\n",
      "│ 14.098951  ┆ -87.907104  │\n",
      "│ 15.474857  ┆ -88.176269  │\n",
      "│ 55.689835  ┆ 12.570998   │\n",
      "│ 34.277928  ┆ 132.570133  │\n",
      "└────────────┴─────────────┘\n"
     ]
    }
   ],
   "source": [
    "h = df.head(10000).collect()\n",
    "print(h)"
   ]
  },
  {
   "cell_type": "code",
   "execution_count": 30,
   "metadata": {},
   "outputs": [
    {
     "data": {
      "text/plain": [
       "(38.700515, -9.056854)"
      ]
     },
     "execution_count": 30,
     "metadata": {},
     "output_type": "execute_result"
    }
   ],
   "source": [
    "# get 14th element as list\n",
    "h.row(14)"
   ]
  },
  {
   "cell_type": "code",
   "execution_count": 31,
   "metadata": {},
   "outputs": [],
   "source": [
    "problem_line = calc_enclosing_cell(h.row(14)[1], h.row(14)[0], active_cells)"
   ]
  },
  {
   "cell_type": "code",
   "execution_count": 32,
   "metadata": {},
   "outputs": [
    {
     "name": "stdout",
     "output_type": "stream",
     "text": [
      "None\n"
     ]
    }
   ],
   "source": [
    "print(problem_line)"
   ]
  },
  {
   "cell_type": "code",
   "execution_count": 33,
   "metadata": {},
   "outputs": [
    {
     "name": "stdout",
     "output_type": "stream",
     "text": [
      "14\n",
      "180\n",
      "527\n",
      "923\n",
      "949\n",
      "1109\n",
      "1111\n",
      "1153\n",
      "1376\n",
      "1416\n",
      "1728\n",
      "2596\n",
      "2916\n",
      "3098\n",
      "3343\n",
      "3377\n",
      "3457\n",
      "3521\n",
      "3862\n",
      "3951\n",
      "4201\n",
      "4495\n",
      "4517\n",
      "4534\n",
      "4633\n",
      "4721\n",
      "5167\n",
      "5531\n",
      "5637\n",
      "5651\n",
      "5981\n",
      "6109\n",
      "6156\n",
      "6258\n",
      "7315\n",
      "7376\n",
      "7585\n",
      "7631\n",
      "7847\n",
      "7982\n",
      "8031\n",
      "8225\n",
      "8613\n",
      "9027\n",
      "9273\n",
      "9465\n",
      "9746\n",
      "7.17464017868042\n"
     ]
    }
   ],
   "source": [
    "start_time = time.time()\n",
    "\n",
    "for i, row in enumerate(h.iter_rows()):\n",
    "    if calc_enclosing_cell(row[1], row[0], active_cells) is None:\n",
    "        print(i)\n",
    "\n",
    "\n",
    "end_time = time.time()\n",
    "print(end_time - start_time)"
   ]
  }
 ],
 "metadata": {
  "kernelspec": {
   "display_name": "locus-model",
   "language": "python",
   "name": "python3"
  },
  "language_info": {
   "codemirror_mode": {
    "name": "ipython",
    "version": 3
   },
   "file_extension": ".py",
   "mimetype": "text/x-python",
   "name": "python",
   "nbconvert_exporter": "python",
   "pygments_lexer": "ipython3",
   "version": "3.11.7"
  }
 },
 "nbformat": 4,
 "nbformat_minor": 2
}
