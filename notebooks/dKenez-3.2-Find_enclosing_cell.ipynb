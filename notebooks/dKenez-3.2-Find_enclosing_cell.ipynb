{
 "cells": [
  {
   "cell_type": "code",
   "execution_count": 2,
   "metadata": {},
   "outputs": [],
   "source": [
    "import time\n",
    "from functools import reduce\n",
    "from pathlib import Path\n",
    "\n",
    "import networkx as nx\n",
    "import polars as pl\n",
    "\n",
    "from locus.utils.pl_utils import batch_iter\n",
    "from tqdm import tqdm\n",
    "\n",
    "%matplotlib widget"
   ]
  },
  {
   "cell_type": "code",
   "execution_count": 3,
   "metadata": {},
   "outputs": [],
   "source": [
    "PROJECT_ROOT = Path().cwd().parent\n",
    "PROCESSED_DATA_DIR = PROJECT_ROOT / \"data\" / \"processed\""
   ]
  },
  {
   "cell_type": "code",
   "execution_count": 4,
   "metadata": {},
   "outputs": [
    {
     "ename": "FileNotFoundError",
     "evalue": "No such file or directory (os error 2): /home/dkenez/Projects/Locus/locus-model/data/processed/LDoGI/shards/*.parquet",
     "output_type": "error",
     "traceback": [
      "\u001b[0;31m---------------------------------------------------------------------------\u001b[0m",
      "\u001b[0;31mFileNotFoundError\u001b[0m                         Traceback (most recent call last)",
      "Cell \u001b[0;32mIn[4], line 1\u001b[0m\n\u001b[0;32m----> 1\u001b[0m df \u001b[38;5;241m=\u001b[39m \u001b[43mpl\u001b[49m\u001b[38;5;241;43m.\u001b[39;49m\u001b[43mscan_parquet\u001b[49m\u001b[43m(\u001b[49m\u001b[43mPROCESSED_DATA_DIR\u001b[49m\u001b[43m \u001b[49m\u001b[38;5;241;43m/\u001b[39;49m\u001b[43m \u001b[49m\u001b[38;5;124;43m\"\u001b[39;49m\u001b[38;5;124;43mLDoGI/shards/*.parquet\u001b[39;49m\u001b[38;5;124;43m\"\u001b[39;49m\u001b[43m)\u001b[49m\n\u001b[1;32m      2\u001b[0m \u001b[38;5;28mprint\u001b[39m(df\u001b[38;5;241m.\u001b[39mhead()\u001b[38;5;241m.\u001b[39mcollect())\n\u001b[1;32m      3\u001b[0m c \u001b[38;5;241m=\u001b[39m df\u001b[38;5;241m.\u001b[39mselect(pl\u001b[38;5;241m.\u001b[39mlen())\u001b[38;5;241m.\u001b[39mcollect()[\u001b[38;5;124m\"\u001b[39m\u001b[38;5;124mlen\u001b[39m\u001b[38;5;124m\"\u001b[39m][\u001b[38;5;241m0\u001b[39m] \u001b[38;5;66;03m# count\u001b[39;00m\n",
      "File \u001b[0;32m~/miniconda3/envs/locus-model/lib/python3.11/site-packages/polars/utils/deprecation.py:136\u001b[0m, in \u001b[0;36mdeprecate_renamed_parameter.<locals>.decorate.<locals>.wrapper\u001b[0;34m(*args, **kwargs)\u001b[0m\n\u001b[1;32m    131\u001b[0m \u001b[38;5;129m@wraps\u001b[39m(function)\n\u001b[1;32m    132\u001b[0m \u001b[38;5;28;01mdef\u001b[39;00m \u001b[38;5;21mwrapper\u001b[39m(\u001b[38;5;241m*\u001b[39margs: P\u001b[38;5;241m.\u001b[39margs, \u001b[38;5;241m*\u001b[39m\u001b[38;5;241m*\u001b[39mkwargs: P\u001b[38;5;241m.\u001b[39mkwargs) \u001b[38;5;241m-\u001b[39m\u001b[38;5;241m>\u001b[39m T:\n\u001b[1;32m    133\u001b[0m     _rename_keyword_argument(\n\u001b[1;32m    134\u001b[0m         old_name, new_name, kwargs, function\u001b[38;5;241m.\u001b[39m\u001b[38;5;18m__name__\u001b[39m, version\n\u001b[1;32m    135\u001b[0m     )\n\u001b[0;32m--> 136\u001b[0m     \u001b[38;5;28;01mreturn\u001b[39;00m \u001b[43mfunction\u001b[49m\u001b[43m(\u001b[49m\u001b[38;5;241;43m*\u001b[39;49m\u001b[43margs\u001b[49m\u001b[43m,\u001b[49m\u001b[43m \u001b[49m\u001b[38;5;241;43m*\u001b[39;49m\u001b[38;5;241;43m*\u001b[39;49m\u001b[43mkwargs\u001b[49m\u001b[43m)\u001b[49m\n",
      "File \u001b[0;32m~/miniconda3/envs/locus-model/lib/python3.11/site-packages/polars/utils/deprecation.py:136\u001b[0m, in \u001b[0;36mdeprecate_renamed_parameter.<locals>.decorate.<locals>.wrapper\u001b[0;34m(*args, **kwargs)\u001b[0m\n\u001b[1;32m    131\u001b[0m \u001b[38;5;129m@wraps\u001b[39m(function)\n\u001b[1;32m    132\u001b[0m \u001b[38;5;28;01mdef\u001b[39;00m \u001b[38;5;21mwrapper\u001b[39m(\u001b[38;5;241m*\u001b[39margs: P\u001b[38;5;241m.\u001b[39margs, \u001b[38;5;241m*\u001b[39m\u001b[38;5;241m*\u001b[39mkwargs: P\u001b[38;5;241m.\u001b[39mkwargs) \u001b[38;5;241m-\u001b[39m\u001b[38;5;241m>\u001b[39m T:\n\u001b[1;32m    133\u001b[0m     _rename_keyword_argument(\n\u001b[1;32m    134\u001b[0m         old_name, new_name, kwargs, function\u001b[38;5;241m.\u001b[39m\u001b[38;5;18m__name__\u001b[39m, version\n\u001b[1;32m    135\u001b[0m     )\n\u001b[0;32m--> 136\u001b[0m     \u001b[38;5;28;01mreturn\u001b[39;00m \u001b[43mfunction\u001b[49m\u001b[43m(\u001b[49m\u001b[38;5;241;43m*\u001b[39;49m\u001b[43margs\u001b[49m\u001b[43m,\u001b[49m\u001b[43m \u001b[49m\u001b[38;5;241;43m*\u001b[39;49m\u001b[38;5;241;43m*\u001b[39;49m\u001b[43mkwargs\u001b[49m\u001b[43m)\u001b[49m\n",
      "File \u001b[0;32m~/miniconda3/envs/locus-model/lib/python3.11/site-packages/polars/io/parquet/functions.py:311\u001b[0m, in \u001b[0;36mscan_parquet\u001b[0;34m(source, n_rows, row_index_name, row_index_offset, parallel, use_statistics, hive_partitioning, rechunk, low_memory, cache, storage_options, retries)\u001b[0m\n\u001b[1;32m    308\u001b[0m \u001b[38;5;28;01melse\u001b[39;00m:\n\u001b[1;32m    309\u001b[0m     source \u001b[38;5;241m=\u001b[39m [normalize_filepath(source) \u001b[38;5;28;01mfor\u001b[39;00m source \u001b[38;5;129;01min\u001b[39;00m source]\n\u001b[0;32m--> 311\u001b[0m \u001b[38;5;28;01mreturn\u001b[39;00m \u001b[43mpl\u001b[49m\u001b[38;5;241;43m.\u001b[39;49m\u001b[43mLazyFrame\u001b[49m\u001b[38;5;241;43m.\u001b[39;49m\u001b[43m_scan_parquet\u001b[49m\u001b[43m(\u001b[49m\n\u001b[1;32m    312\u001b[0m \u001b[43m    \u001b[49m\u001b[43msource\u001b[49m\u001b[43m,\u001b[49m\n\u001b[1;32m    313\u001b[0m \u001b[43m    \u001b[49m\u001b[43mn_rows\u001b[49m\u001b[38;5;241;43m=\u001b[39;49m\u001b[43mn_rows\u001b[49m\u001b[43m,\u001b[49m\n\u001b[1;32m    314\u001b[0m \u001b[43m    \u001b[49m\u001b[43mcache\u001b[49m\u001b[38;5;241;43m=\u001b[39;49m\u001b[43mcache\u001b[49m\u001b[43m,\u001b[49m\n\u001b[1;32m    315\u001b[0m \u001b[43m    \u001b[49m\u001b[43mparallel\u001b[49m\u001b[38;5;241;43m=\u001b[39;49m\u001b[43mparallel\u001b[49m\u001b[43m,\u001b[49m\n\u001b[1;32m    316\u001b[0m \u001b[43m    \u001b[49m\u001b[43mrechunk\u001b[49m\u001b[38;5;241;43m=\u001b[39;49m\u001b[43mrechunk\u001b[49m\u001b[43m,\u001b[49m\n\u001b[1;32m    317\u001b[0m \u001b[43m    \u001b[49m\u001b[43mrow_index_name\u001b[49m\u001b[38;5;241;43m=\u001b[39;49m\u001b[43mrow_index_name\u001b[49m\u001b[43m,\u001b[49m\n\u001b[1;32m    318\u001b[0m \u001b[43m    \u001b[49m\u001b[43mrow_index_offset\u001b[49m\u001b[38;5;241;43m=\u001b[39;49m\u001b[43mrow_index_offset\u001b[49m\u001b[43m,\u001b[49m\n\u001b[1;32m    319\u001b[0m \u001b[43m    \u001b[49m\u001b[43mstorage_options\u001b[49m\u001b[38;5;241;43m=\u001b[39;49m\u001b[43mstorage_options\u001b[49m\u001b[43m,\u001b[49m\n\u001b[1;32m    320\u001b[0m \u001b[43m    \u001b[49m\u001b[43mlow_memory\u001b[49m\u001b[38;5;241;43m=\u001b[39;49m\u001b[43mlow_memory\u001b[49m\u001b[43m,\u001b[49m\n\u001b[1;32m    321\u001b[0m \u001b[43m    \u001b[49m\u001b[43muse_statistics\u001b[49m\u001b[38;5;241;43m=\u001b[39;49m\u001b[43muse_statistics\u001b[49m\u001b[43m,\u001b[49m\n\u001b[1;32m    322\u001b[0m \u001b[43m    \u001b[49m\u001b[43mhive_partitioning\u001b[49m\u001b[38;5;241;43m=\u001b[39;49m\u001b[43mhive_partitioning\u001b[49m\u001b[43m,\u001b[49m\n\u001b[1;32m    323\u001b[0m \u001b[43m    \u001b[49m\u001b[43mretries\u001b[49m\u001b[38;5;241;43m=\u001b[39;49m\u001b[43mretries\u001b[49m\u001b[43m,\u001b[49m\n\u001b[1;32m    324\u001b[0m \u001b[43m\u001b[49m\u001b[43m)\u001b[49m\n",
      "File \u001b[0;32m~/miniconda3/envs/locus-model/lib/python3.11/site-packages/polars/lazyframe/frame.py:452\u001b[0m, in \u001b[0;36mLazyFrame._scan_parquet\u001b[0;34m(cls, source, n_rows, cache, parallel, rechunk, row_index_name, row_index_offset, storage_options, low_memory, use_statistics, hive_partitioning, retries)\u001b[0m\n\u001b[1;32m    446\u001b[0m \u001b[38;5;66;03m# try fsspec scanner\u001b[39;00m\n\u001b[1;32m    447\u001b[0m \u001b[38;5;28;01mif\u001b[39;00m (\n\u001b[1;32m    448\u001b[0m     can_use_fsspec\n\u001b[1;32m    449\u001b[0m     \u001b[38;5;129;01mand\u001b[39;00m \u001b[38;5;129;01mnot\u001b[39;00m _is_local_file(source)  \u001b[38;5;66;03m# type: ignore[arg-type]\u001b[39;00m\n\u001b[1;32m    450\u001b[0m     \u001b[38;5;129;01mand\u001b[39;00m \u001b[38;5;129;01mnot\u001b[39;00m _is_supported_cloud(source)  \u001b[38;5;66;03m# type: ignore[arg-type]\u001b[39;00m\n\u001b[1;32m    451\u001b[0m ):\n\u001b[0;32m--> 452\u001b[0m     scan \u001b[38;5;241m=\u001b[39m \u001b[43m_scan_parquet_fsspec\u001b[49m\u001b[43m(\u001b[49m\u001b[43msource\u001b[49m\u001b[43m,\u001b[49m\u001b[43m \u001b[49m\u001b[43mstorage_options\u001b[49m\u001b[43m)\u001b[49m  \u001b[38;5;66;03m# type: ignore[arg-type]\u001b[39;00m\n\u001b[1;32m    453\u001b[0m     \u001b[38;5;28;01mif\u001b[39;00m n_rows:\n\u001b[1;32m    454\u001b[0m         scan \u001b[38;5;241m=\u001b[39m scan\u001b[38;5;241m.\u001b[39mhead(n_rows)\n",
      "File \u001b[0;32m~/miniconda3/envs/locus-model/lib/python3.11/site-packages/polars/io/parquet/anonymous_scan.py:21\u001b[0m, in \u001b[0;36m_scan_parquet_fsspec\u001b[0;34m(source, storage_options)\u001b[0m\n\u001b[1;32m     18\u001b[0m func \u001b[38;5;241m=\u001b[39m partial(_scan_parquet_impl, source, storage_options\u001b[38;5;241m=\u001b[39mstorage_options)\n\u001b[1;32m     20\u001b[0m \u001b[38;5;28;01mwith\u001b[39;00m _prepare_file_arg(source, storage_options\u001b[38;5;241m=\u001b[39mstorage_options) \u001b[38;5;28;01mas\u001b[39;00m data:\n\u001b[0;32m---> 21\u001b[0m     schema \u001b[38;5;241m=\u001b[39m \u001b[43mpolars\u001b[49m\u001b[38;5;241;43m.\u001b[39;49m\u001b[43mio\u001b[49m\u001b[38;5;241;43m.\u001b[39;49m\u001b[43mparquet\u001b[49m\u001b[38;5;241;43m.\u001b[39;49m\u001b[43mread_parquet_schema\u001b[49m\u001b[43m(\u001b[49m\u001b[43mdata\u001b[49m\u001b[43m)\u001b[49m\n\u001b[1;32m     23\u001b[0m \u001b[38;5;28;01mreturn\u001b[39;00m pl\u001b[38;5;241m.\u001b[39mLazyFrame\u001b[38;5;241m.\u001b[39m_scan_python_function(schema, func)\n",
      "File \u001b[0;32m~/miniconda3/envs/locus-model/lib/python3.11/site-packages/polars/io/parquet/functions.py:213\u001b[0m, in \u001b[0;36mread_parquet_schema\u001b[0;34m(source)\u001b[0m\n\u001b[1;32m    210\u001b[0m \u001b[38;5;28;01mif\u001b[39;00m \u001b[38;5;28misinstance\u001b[39m(source, (\u001b[38;5;28mstr\u001b[39m, Path)):\n\u001b[1;32m    211\u001b[0m     source \u001b[38;5;241m=\u001b[39m normalize_filepath(source)\n\u001b[0;32m--> 213\u001b[0m \u001b[38;5;28;01mreturn\u001b[39;00m \u001b[43m_read_parquet_schema\u001b[49m\u001b[43m(\u001b[49m\u001b[43msource\u001b[49m\u001b[43m)\u001b[49m\n",
      "\u001b[0;31mFileNotFoundError\u001b[0m: No such file or directory (os error 2): /home/dkenez/Projects/Locus/locus-model/data/processed/LDoGI/shards/*.parquet"
     ]
    }
   ],
   "source": [
    "df = pl.scan_parquet(PROCESSED_DATA_DIR / \"LDoGI/shards/*.parquet\")\n",
    "print(df.head().collect())\n",
    "c = df.select(pl.len()).collect()[\"len\"][0] # count\n",
    "c"
   ]
  },
  {
   "cell_type": "code",
   "execution_count": 19,
   "metadata": {},
   "outputs": [
    {
     "name": "stdout",
     "output_type": "stream",
     "text": [
      "shape: (5, 2)\n",
      "┌────────────┬────────────┐\n",
      "│ latitude   ┆ longitude  │\n",
      "│ ---        ┆ ---        │\n",
      "│ f64        ┆ f64        │\n",
      "╞════════════╪════════════╡\n",
      "│ 41.906     ┆ 12.455     │\n",
      "│ 48.211072  ┆ 16.36736   │\n",
      "│ 43.942876  ┆ 12.774091  │\n",
      "│ 41.339055  ┆ 14.507789  │\n",
      "│ -23.210269 ┆ -44.693223 │\n",
      "└────────────┴────────────┘\n"
     ]
    },
    {
     "data": {
      "text/plain": [
       "4233900"
      ]
     },
     "execution_count": 19,
     "metadata": {},
     "output_type": "execute_result"
    }
   ],
   "source": [
    "df = pl.scan_parquet(PROCESSED_DATA_DIR / \"LDoGI/shards/*.parquet\")\n",
    "df = df.drop(\"id\", \"image\")\n",
    "print(df.head().collect())\n",
    "c = df.select(pl.len()).collect()[\"len\"][0] # count\n",
    "c"
   ]
  },
  {
   "cell_type": "code",
   "execution_count": 5,
   "metadata": {},
   "outputs": [],
   "source": [
    "G = nx.read_gml(PROCESSED_DATA_DIR / \"LDoGI/quadtrees/quadtree.gml\")"
   ]
  },
  {
   "cell_type": "code",
   "execution_count": 6,
   "metadata": {},
   "outputs": [],
   "source": [
    "# create enum of cell states\n",
    "class CellState:\n",
    "    STOPPED = 0\n",
    "    EVALUATING = 1\n",
    "    ACTIVE = 2"
   ]
  },
  {
   "cell_type": "code",
   "execution_count": 7,
   "metadata": {},
   "outputs": [],
   "source": [
    "active_cells = [node for node in list(G.nodes) if G.nodes[node][\"state\"] == CellState.ACTIVE]"
   ]
  },
  {
   "cell_type": "code",
   "execution_count": 8,
   "metadata": {},
   "outputs": [
    {
     "data": {
      "text/plain": [
       "6398"
      ]
     },
     "execution_count": 8,
     "metadata": {},
     "output_type": "execute_result"
    }
   ],
   "source": [
    "len(active_cells)"
   ]
  },
  {
   "cell_type": "code",
   "execution_count": 9,
   "metadata": {},
   "outputs": [
    {
     "data": {
      "text/plain": [
       "'000'"
      ]
     },
     "execution_count": 9,
     "metadata": {},
     "output_type": "execute_result"
    }
   ],
   "source": [
    "active_cells[0]"
   ]
  },
  {
   "cell_type": "code",
   "execution_count": 10,
   "metadata": {},
   "outputs": [
    {
     "name": "stdout",
     "output_type": "stream",
     "text": [
      "18\n",
      "10.361831822444515\n"
     ]
    }
   ],
   "source": [
    "sum_path_lens = reduce(lambda s, x: s + len(x), active_cells, 0)\n",
    "max_path_len = max([len(x) for x in active_cells])\n",
    "count_active_cells = len(active_cells)\n",
    "\n",
    "avg_path_len = sum_path_lens / count_active_cells\n",
    "print(max_path_len)\n",
    "print(avg_path_len)"
   ]
  },
  {
   "cell_type": "code",
   "execution_count": 11,
   "metadata": {},
   "outputs": [],
   "source": [
    "def calc_enclosing_cell(lon: float, lat: float, active_cells: list[str]):\n",
    "    \"\"\"\n",
    "    Given a point (lon, lat) and a graph, return the cell that encloses the point.\n",
    "    \"\"\"\n",
    "\n",
    "    def get_next_cell(lon: float, lat: float, west_lon: float, east_lon: float, south_lat: float, north_lat: float):\n",
    "        ret_west_lon = west_lon\n",
    "        ret_east_lon = east_lon\n",
    "        ret_south_lat = south_lat\n",
    "        ret_north_lat = north_lat\n",
    "\n",
    "        quad = 0\n",
    "\n",
    "        half_lon = (west_lon + east_lon) / 2\n",
    "        if lon > half_lon:\n",
    "            quad += 1\n",
    "            ret_west_lon = half_lon\n",
    "        else:\n",
    "            ret_east_lon = half_lon\n",
    "\n",
    "        half_lat = (south_lat + north_lat) / 2\n",
    "        if lat < half_lat:\n",
    "            quad += 2\n",
    "            ret_north_lat = half_lat\n",
    "        else:\n",
    "            ret_south_lat = half_lat\n",
    "\n",
    "        return quad, (ret_west_lon, ret_east_lon, ret_south_lat, ret_north_lat)\n",
    "\n",
    "    west_lon = -180\n",
    "    east_lon = 180\n",
    "    south_lat = -90\n",
    "    north_lat = 90\n",
    "\n",
    "    cell = \"\"\n",
    "    cell_pool = [c for c in active_cells]\n",
    "\n",
    "    while True:\n",
    "        quad, (west_lon, east_lon, south_lat, north_lat) = get_next_cell(\n",
    "            lon, lat, west_lon, east_lon, south_lat, north_lat\n",
    "        )\n",
    "\n",
    "        cell += str(quad)\n",
    "        cell_pool = [c for c in cell_pool if c.startswith(cell)]\n",
    "\n",
    "        if len(cell_pool) == 1 and cell == cell_pool[0]:\n",
    "            return cell\n",
    "\n",
    "        if len(cell_pool) == 0:\n",
    "            f\"Not found: {cell}\"\n",
    "            return None"
   ]
  },
  {
   "cell_type": "code",
   "execution_count": 20,
   "metadata": {},
   "outputs": [
    {
     "data": {
      "text/plain": [
       "'030012310110212'"
      ]
     },
     "execution_count": 20,
     "metadata": {},
     "output_type": "execute_result"
    }
   ],
   "source": [
    "calc_enclosing_cell(-73.973694, 40.7483, active_cells)"
   ]
  },
  {
   "cell_type": "code",
   "execution_count": 29,
   "metadata": {},
   "outputs": [
    {
     "name": "stdout",
     "output_type": "stream",
     "text": [
      "shape: (10_000, 2)\n",
      "┌────────────┬─────────────┐\n",
      "│ latitude   ┆ longitude   │\n",
      "│ ---        ┆ ---         │\n",
      "│ f64        ┆ f64         │\n",
      "╞════════════╪═════════════╡\n",
      "│ 41.906     ┆ 12.455      │\n",
      "│ 48.211072  ┆ 16.36736    │\n",
      "│ 43.942876  ┆ 12.774091   │\n",
      "│ 41.339055  ┆ 14.507789   │\n",
      "│ -23.210269 ┆ -44.693223  │\n",
      "│ …          ┆ …           │\n",
      "│ 34.13809   ┆ -118.353404 │\n",
      "│ 14.098951  ┆ -87.907104  │\n",
      "│ 15.474857  ┆ -88.176269  │\n",
      "│ 55.689835  ┆ 12.570998   │\n",
      "│ 34.277928  ┆ 132.570133  │\n",
      "└────────────┴─────────────┘\n"
     ]
    }
   ],
   "source": [
    "h = df.head(10000).collect()\n",
    "print(h)"
   ]
  },
  {
   "cell_type": "code",
   "execution_count": 30,
   "metadata": {},
   "outputs": [
    {
     "data": {
      "text/plain": [
       "(38.700515, -9.056854)"
      ]
     },
     "execution_count": 30,
     "metadata": {},
     "output_type": "execute_result"
    }
   ],
   "source": [
    "# get 14th element as list\n",
    "h.row(14)"
   ]
  },
  {
   "cell_type": "code",
   "execution_count": 31,
   "metadata": {},
   "outputs": [],
   "source": [
    "problem_line = calc_enclosing_cell(h.row(14)[1], h.row(14)[0], active_cells)"
   ]
  },
  {
   "cell_type": "code",
   "execution_count": 32,
   "metadata": {},
   "outputs": [
    {
     "name": "stdout",
     "output_type": "stream",
     "text": [
      "None\n"
     ]
    }
   ],
   "source": [
    "print(problem_line)"
   ]
  },
  {
   "cell_type": "code",
   "execution_count": 33,
   "metadata": {},
   "outputs": [
    {
     "name": "stdout",
     "output_type": "stream",
     "text": [
      "14\n",
      "180\n",
      "527\n",
      "923\n",
      "949\n",
      "1109\n",
      "1111\n",
      "1153\n",
      "1376\n",
      "1416\n",
      "1728\n",
      "2596\n",
      "2916\n",
      "3098\n",
      "3343\n",
      "3377\n",
      "3457\n",
      "3521\n",
      "3862\n",
      "3951\n",
      "4201\n",
      "4495\n",
      "4517\n",
      "4534\n",
      "4633\n",
      "4721\n",
      "5167\n",
      "5531\n",
      "5637\n",
      "5651\n",
      "5981\n",
      "6109\n",
      "6156\n",
      "6258\n",
      "7315\n",
      "7376\n",
      "7585\n",
      "7631\n",
      "7847\n",
      "7982\n",
      "8031\n",
      "8225\n",
      "8613\n",
      "9027\n",
      "9273\n",
      "9465\n",
      "9746\n",
      "7.17464017868042\n"
     ]
    }
   ],
   "source": [
    "start_time = time.time()\n",
    "\n",
    "for i, row in enumerate(h.iter_rows()):\n",
    "    if calc_enclosing_cell(row[1], row[0], active_cells) is None:\n",
    "        print(i)\n",
    "\n",
    "\n",
    "end_time = time.time()\n",
    "print(end_time - start_time)"
   ]
  }
 ],
 "metadata": {
  "kernelspec": {
   "display_name": "locus-model",
   "language": "python",
   "name": "python3"
  },
  "language_info": {
   "codemirror_mode": {
    "name": "ipython",
    "version": 3
   },
   "file_extension": ".py",
   "mimetype": "text/x-python",
   "name": "python",
   "nbconvert_exporter": "python",
   "pygments_lexer": "ipython3",
   "version": "3.11.8"
  }
 },
 "nbformat": 4,
 "nbformat_minor": 2
}
