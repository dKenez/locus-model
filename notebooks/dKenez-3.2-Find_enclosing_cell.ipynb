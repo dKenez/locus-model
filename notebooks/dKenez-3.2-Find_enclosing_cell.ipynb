{
 "cells": [
  {
   "cell_type": "code",
   "execution_count": 2,
   "metadata": {},
   "outputs": [],
   "source": [
    "from functools import reduce\n",
    "from pathlib import Path\n",
    "\n",
    "import cartopy.crs as ccrs\n",
    "import matplotlib.pyplot as plt\n",
    "import networkx as nx\n",
    "import numpy as np\n",
    "import polars as pl\n",
    "from area import area\n",
    "from matplotlib.patches import Polygon\n",
    "from mpl_toolkits.basemap import Basemap\n",
    "from src.utils.pl_utils import batch_iter\n",
    "from tqdm import tqdm\n",
    "\n",
    "%matplotlib widget"
   ]
  },
  {
   "cell_type": "code",
   "execution_count": 3,
   "metadata": {},
   "outputs": [],
   "source": [
    "PROJECT_ROOT = Path().cwd().parent\n",
    "PROCESSED_DATA_DIR = PROJECT_ROOT / \"data\" / \"processed\""
   ]
  },
  {
   "cell_type": "code",
   "execution_count": 4,
   "metadata": {},
   "outputs": [
    {
     "name": "stdout",
     "output_type": "stream",
     "text": [
      "shape: (5, 2)\n",
      "┌────────────┬────────────┐\n",
      "│ latitude   ┆ longitude  │\n",
      "│ ---        ┆ ---        │\n",
      "│ f64        ┆ f64        │\n",
      "╞════════════╪════════════╡\n",
      "│ 41.906     ┆ 12.455     │\n",
      "│ 48.211072  ┆ 16.36736   │\n",
      "│ 43.942876  ┆ 12.774091  │\n",
      "│ 41.339055  ┆ 14.507789  │\n",
      "│ -23.210269 ┆ -44.693223 │\n",
      "└────────────┴────────────┘\n"
     ]
    },
    {
     "data": {
      "text/plain": [
       "29999"
      ]
     },
     "execution_count": 4,
     "metadata": {},
     "output_type": "execute_result"
    }
   ],
   "source": [
    "df = pl.scan_parquet(PROCESSED_DATA_DIR / \"LDoGI\" / \"shard_0.parquet\")\n",
    "df = df.drop(\"id\", \"image\")\n",
    "print(df.head().collect())\n",
    "c = df.select(pl.len()).collect()[\"len\"][0] # count\n",
    "c"
   ]
  },
  {
   "cell_type": "code",
   "execution_count": 5,
   "metadata": {},
   "outputs": [],
   "source": [
    "G = nx.read_gml(PROCESSED_DATA_DIR / \"quadtrees\" / \"whole.gml\")"
   ]
  },
  {
   "cell_type": "code",
   "execution_count": 6,
   "metadata": {},
   "outputs": [],
   "source": [
    "# create enum of cell states\n",
    "class CellState:\n",
    "    STOPPED = 0\n",
    "    EVALUATING = 1\n",
    "    ACTIVE = 2"
   ]
  },
  {
   "cell_type": "code",
   "execution_count": 7,
   "metadata": {},
   "outputs": [],
   "source": [
    "active_cells = [node for node in list(G.nodes) if G.nodes[node][\"state\"] == CellState.ACTIVE]"
   ]
  },
  {
   "cell_type": "code",
   "execution_count": 8,
   "metadata": {},
   "outputs": [
    {
     "data": {
      "text/plain": [
       "6874"
      ]
     },
     "execution_count": 8,
     "metadata": {},
     "output_type": "execute_result"
    }
   ],
   "source": [
    "len(active_cells)"
   ]
  },
  {
   "cell_type": "code",
   "execution_count": 9,
   "metadata": {},
   "outputs": [
    {
     "data": {
      "text/plain": [
       "3"
      ]
     },
     "execution_count": 9,
     "metadata": {},
     "output_type": "execute_result"
    }
   ],
   "source": [
    "len(active_cells[0])"
   ]
  },
  {
   "cell_type": "code",
   "execution_count": null,
   "metadata": {},
   "outputs": [],
   "source": []
  },
  {
   "cell_type": "code",
   "execution_count": 13,
   "metadata": {},
   "outputs": [
    {
     "name": "stdout",
     "output_type": "stream",
     "text": [
      "18\n",
      "10.351469304626127\n"
     ]
    }
   ],
   "source": [
    "\n",
    "\n",
    "\n",
    "sum_path_lens = reduce(lambda s, x: s + len(x), active_cells, 0)\n",
    "max_path_len = max([len(x) for x in active_cells])\n",
    "count_active_cells = len(active_cells)\n",
    "\n",
    "avg_path_len = sum_path_lens / count_active_cells\n",
    "print(max_path_len)\n",
    "print(avg_path_len)"
   ]
  },
  {
   "cell_type": "code",
   "execution_count": null,
   "metadata": {},
   "outputs": [],
   "source": [
    "from typing import List\n",
    "\n",
    "\n",
    "def calc_enclosing_cell(lon: float, lat: float, active_cells: List[str]):\n",
    "    \"\"\"\n",
    "    Given a point (lon, lat) and a graph, return the cell that encloses the point.\n",
    "    \"\"\"\n",
    "\n",
    "    def get_next_cell(lon: float, lat: float, west_lon: float, east_lon: float, south_lat: float, north_lat: float):\n",
    "        ret_west_lon = west_lon\n",
    "        ret_east_lon = east_lon\n",
    "        ret_south_lat = south_lat\n",
    "        ret_north_lat = north_lat\n",
    "\n",
    "        quad = 0\n",
    "\n",
    "        half_lon = (west_lon + east_lon) / 2\n",
    "        if lon > half_lon:\n",
    "            quad += 1\n",
    "            ret_west_lon = half_lon\n",
    "        else:\n",
    "            ret_east_lon = half_lon\n",
    "\n",
    "        half_lat = (south_lat + north_lat) / 2\n",
    "        if lat < half_lat:\n",
    "            quad += 2\n",
    "            ret_north_lat = half_lat\n",
    "        else:\n",
    "            ret_south_lat = half_lat\n",
    "\n",
    "        return quad, (ret_west_lon, ret_east_lon, ret_south_lat, ret_north_lat)\n",
    "\n",
    "    west_lon = -180\n",
    "    east_lon = 180\n",
    "    south_lat = -90\n",
    "    north_lat = 90\n",
    "\n",
    "    cell = \"\"\n",
    "    cell_pool = [c for c in active_cells]\n",
    "\n",
    "    while True:\n",
    "        quad, (west_lon, east_lon, south_lat, north_lat) = get_next_cell(\n",
    "            lon, lat, west_lon, east_lon, south_lat, north_lat\n",
    "        )\n",
    "\n",
    "        cell += str(quad)\n",
    "        cell_pool = [c for c in cell_pool if c.startswith(cell)]\n",
    "\n",
    "        if len(cell_pool) == 1 and cell == cell_pool[0]:\n",
    "            return cell\n",
    "\n",
    "        if len(cell_pool) == 0:\n",
    "            f\"Not found: {cell}\"\n",
    "            return None"
   ]
  },
  {
   "cell_type": "code",
   "execution_count": 15,
   "metadata": {},
   "outputs": [
    {
     "data": {
      "text/plain": [
       "'1200120013211231'"
      ]
     },
     "execution_count": 15,
     "metadata": {},
     "output_type": "execute_result"
    }
   ],
   "source": [
    "calc_enclosing_cell(12.455, 41.906, active_cells)"
   ]
  },
  {
   "cell_type": "code",
   "execution_count": 44,
   "metadata": {},
   "outputs": [
    {
     "name": "stdout",
     "output_type": "stream",
     "text": [
      "shape: (10_000, 2)\n",
      "┌────────────┬─────────────┐\n",
      "│ latitude   ┆ longitude   │\n",
      "│ ---        ┆ ---         │\n",
      "│ f64        ┆ f64         │\n",
      "╞════════════╪═════════════╡\n",
      "│ 41.906     ┆ 12.455      │\n",
      "│ 48.211072  ┆ 16.36736    │\n",
      "│ 43.942876  ┆ 12.774091   │\n",
      "│ 41.339055  ┆ 14.507789   │\n",
      "│ -23.210269 ┆ -44.693223  │\n",
      "│ …          ┆ …           │\n",
      "│ 34.13809   ┆ -118.353404 │\n",
      "│ 14.098951  ┆ -87.907104  │\n",
      "│ 15.474857  ┆ -88.176269  │\n",
      "│ 55.689835  ┆ 12.570998   │\n",
      "│ 34.277928  ┆ 132.570133  │\n",
      "└────────────┴─────────────┘\n"
     ]
    }
   ],
   "source": [
    "h = df.head(10000).collect()\n",
    "print(h)"
   ]
  },
  {
   "cell_type": "code",
   "execution_count": 32,
   "metadata": {},
   "outputs": [
    {
     "data": {
      "text/plain": [
       "(38.700515, -9.056854)"
      ]
     },
     "execution_count": 32,
     "metadata": {},
     "output_type": "execute_result"
    }
   ],
   "source": [
    "# get 14th element as list\n",
    "h.row(14)"
   ]
  },
  {
   "cell_type": "code",
   "execution_count": 42,
   "metadata": {},
   "outputs": [],
   "source": [
    "l = calc_enclosing_cell(h.row(14)[1], h.row(14)[0], active_cells)"
   ]
  },
  {
   "cell_type": "code",
   "execution_count": 34,
   "metadata": {},
   "outputs": [
    {
     "name": "stdout",
     "output_type": "stream",
     "text": [
      "None\n"
     ]
    }
   ],
   "source": [
    "print(l)"
   ]
  },
  {
   "cell_type": "code",
   "execution_count": 45,
   "metadata": {},
   "outputs": [
    {
     "name": "stdout",
     "output_type": "stream",
     "text": [
      "14\n",
      "949\n",
      "1416\n",
      "1728\n",
      "3098\n",
      "7315\n",
      "7376\n",
      "7585\n",
      "8225\n",
      "9027\n",
      "7.943596363067627\n"
     ]
    }
   ],
   "source": [
    "import time\n",
    "\n",
    "\n",
    "start_time = time.time()\n",
    "\n",
    "for i, row in enumerate(h.iter_rows()):\n",
    "    if calc_enclosing_cell(row[1], row[0], active_cells) is None:\n",
    "        print(i)\n",
    "\n",
    "\n",
    "end_time = time.time()\n",
    "print(end_time - start_time)"
   ]
  }
 ],
 "metadata": {
  "kernelspec": {
   "display_name": "locus-model",
   "language": "python",
   "name": "python3"
  },
  "language_info": {
   "codemirror_mode": {
    "name": "ipython",
    "version": 3
   },
   "file_extension": ".py",
   "mimetype": "text/x-python",
   "name": "python",
   "nbconvert_exporter": "python",
   "pygments_lexer": "ipython3",
   "version": "3.11.7"
  }
 },
 "nbformat": 4,
 "nbformat_minor": 2
}
