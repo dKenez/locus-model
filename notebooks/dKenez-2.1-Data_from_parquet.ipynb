{
 "cells": [
  {
   "cell_type": "code",
   "execution_count": 1,
   "metadata": {},
   "outputs": [],
   "source": [
    "import locus.utils.paths as p\n",
    "import polars as pl\n",
    "from locus.utils.paths import PROCESSED_DATA_DIR"
   ]
  },
  {
   "cell_type": "code",
   "execution_count": 2,
   "metadata": {},
   "outputs": [
    {
     "name": "stdout",
     "output_type": "stream",
     "text": [
      "/home/dkeni/Projects/Locus/locus-model/data\n"
     ]
    }
   ],
   "source": [
    "print(p.DATA_DIR)"
   ]
  },
  {
   "cell_type": "code",
   "execution_count": 3,
   "metadata": {},
   "outputs": [
    {
     "data": {
      "text/plain": [
       "PosixPath('/home/dkeni/Projects/Locus/locus-model/data/processed/LDoGI/shards')"
      ]
     },
     "execution_count": 3,
     "metadata": {},
     "output_type": "execute_result"
    }
   ],
   "source": [
    "my_data = PROCESSED_DATA_DIR / \"LDoGI/shards\"\n",
    "my_data"
   ]
  },
  {
   "cell_type": "code",
   "execution_count": 4,
   "metadata": {},
   "outputs": [
    {
     "name": "stdout",
     "output_type": "stream",
     "text": [
      "142\n"
     ]
    }
   ],
   "source": [
    "data_files = list(my_data.glob(\"*.parquet\"))\n",
    "print(len(data_files))"
   ]
  },
  {
   "cell_type": "code",
   "execution_count": 5,
   "metadata": {},
   "outputs": [],
   "source": [
    "df = pl.scan_parquet(data_files)"
   ]
  },
  {
   "cell_type": "code",
   "execution_count": 6,
   "metadata": {},
   "outputs": [
    {
     "name": "stdout",
     "output_type": "stream",
     "text": [
      "df.columns=['id', 'latitude', 'longitude', 'image']\n",
      "df.dtypes=[String, Float64, Float64, Binary]\n",
      "df.schema=OrderedDict([('id', String), ('latitude', Float64), ('longitude', Float64), ('image', Binary)])\n",
      "df.width=4\n"
     ]
    }
   ],
   "source": [
    "print(f\"{df.columns=}\")\n",
    "print(f\"{df.dtypes=}\")\n",
    "print(f\"{df.schema=}\")\n",
    "print(f\"{df.width=}\")"
   ]
  },
  {
   "cell_type": "code",
   "execution_count": 7,
   "metadata": {},
   "outputs": [
    {
     "data": {
      "text/plain": [
       "4233900"
      ]
     },
     "execution_count": 7,
     "metadata": {},
     "output_type": "execute_result"
    }
   ],
   "source": [
    "c = df.select(pl.len()).collect()[\"len\"][0] # count\n",
    "c"
   ]
  },
  {
   "cell_type": "code",
   "execution_count": 8,
   "metadata": {},
   "outputs": [
    {
     "data": {
      "text/html": [
       "<div><style>\n",
       ".dataframe > thead > tr,\n",
       ".dataframe > tbody > tr {\n",
       "  text-align: right;\n",
       "  white-space: pre-wrap;\n",
       "}\n",
       "</style>\n",
       "<small>shape: (10, 4)</small><table border=\"1\" class=\"dataframe\"><thead><tr><th>id</th><th>latitude</th><th>longitude</th><th>image</th></tr><tr><td>str</td><td>f64</td><td>f64</td><td>binary</td></tr></thead><tbody><tr><td>&quot;ba/08/64681904…</td><td>41.906</td><td>12.455</td><td>b&quot;\\xff\\xd8\\xff\\xe0\\x00\\x10JFIF\\x00\\x01\\x01\\x00\\x00\\x01\\x00\\x01\\x00\\x00\\xff\\xdb\\x00C\\x00\\x08\\x06\\x06\\x07\\x06\\x05\\x08\\x07\\x07\\x07\\x09\\x09\\x08\\x0a\\x0c\\x14\\x0d\\x0c\\x0b\\x0b\\x0c\\x19\\x12\\x13\\x0f\\x14\\x1d\\x1a\\x1f\\x1e\\x1d\\x1a\\x1c\\x1c\\x20$.&#x27;\\x20&quot;...</td></tr><tr><td>&quot;5a/c7/85822993…</td><td>48.211072</td><td>16.36736</td><td>b&quot;\\xff\\xd8\\xff\\xe0\\x00\\x10JFIF\\x00\\x01\\x01\\x00\\x00\\x01\\x00\\x01\\x00\\x00\\xff\\xdb\\x00C\\x00\\x08\\x06\\x06\\x07\\x06\\x05\\x08\\x07\\x07\\x07\\x09\\x09\\x08\\x0a\\x0c\\x14\\x0d\\x0c\\x0b\\x0b\\x0c\\x19\\x12\\x13\\x0f\\x14\\x1d\\x1a\\x1f\\x1e\\x1d\\x1a\\x1c\\x1c\\x20$.&#x27;\\x20&quot;...</td></tr><tr><td>&quot;81/90/86941565…</td><td>43.942876</td><td>12.774091</td><td>b&quot;\\xff\\xd8\\xff\\xe0\\x00\\x10JFIF\\x00\\x01\\x01\\x00\\x00\\x01\\x00\\x01\\x00\\x00\\xff\\xdb\\x00C\\x00\\x08\\x06\\x06\\x07\\x06\\x05\\x08\\x07\\x07\\x07\\x09\\x09\\x08\\x0a\\x0c\\x14\\x0d\\x0c\\x0b\\x0b\\x0c\\x19\\x12\\x13\\x0f\\x14\\x1d\\x1a\\x1f\\x1e\\x1d\\x1a\\x1c\\x1c\\x20$.&#x27;\\x20&quot;...</td></tr><tr><td>&quot;86/07/63370508…</td><td>41.339055</td><td>14.507789</td><td>b&quot;\\xff\\xd8\\xff\\xe0\\x00\\x10JFIF\\x00\\x01\\x01\\x00\\x00\\x01\\x00\\x01\\x00\\x00\\xff\\xdb\\x00C\\x00\\x08\\x06\\x06\\x07\\x06\\x05\\x08\\x07\\x07\\x07\\x09\\x09\\x08\\x0a\\x0c\\x14\\x0d\\x0c\\x0b\\x0b\\x0c\\x19\\x12\\x13\\x0f\\x14\\x1d\\x1a\\x1f\\x1e\\x1d\\x1a\\x1c\\x1c\\x20$.&#x27;\\x20&quot;...</td></tr><tr><td>&quot;59/ed/49332140…</td><td>-23.210269</td><td>-44.693223</td><td>b&quot;\\xff\\xd8\\xff\\xe0\\x00\\x10JFIF\\x00\\x01\\x01\\x00\\x00\\x01\\x00\\x01\\x00\\x00\\xff\\xdb\\x00C\\x00\\x08\\x06\\x06\\x07\\x06\\x05\\x08\\x07\\x07\\x07\\x09\\x09\\x08\\x0a\\x0c\\x14\\x0d\\x0c\\x0b\\x0b\\x0c\\x19\\x12\\x13\\x0f\\x14\\x1d\\x1a\\x1f\\x1e\\x1d\\x1a\\x1c\\x1c\\x20$.&#x27;\\x20&quot;...</td></tr><tr><td>&quot;4c/fa/26373120…</td><td>35.659384</td><td>139.700673</td><td>b&quot;\\xff\\xd8\\xff\\xe0\\x00\\x10JFIF\\x00\\x01\\x01\\x00\\x00\\x01\\x00\\x01\\x00\\x00\\xff\\xdb\\x00C\\x00\\x08\\x06\\x06\\x07\\x06\\x05\\x08\\x07\\x07\\x07\\x09\\x09\\x08\\x0a\\x0c\\x14\\x0d\\x0c\\x0b\\x0b\\x0c\\x19\\x12\\x13\\x0f\\x14\\x1d\\x1a\\x1f\\x1e\\x1d\\x1a\\x1c\\x1c\\x20$.&#x27;\\x20&quot;...</td></tr><tr><td>&quot;27/78/29506397…</td><td>41.383594</td><td>2.167063</td><td>b&quot;\\xff\\xd8\\xff\\xe0\\x00\\x10JFIF\\x00\\x01\\x01\\x00\\x00\\x01\\x00\\x01\\x00\\x00\\xff\\xdb\\x00C\\x00\\x08\\x06\\x06\\x07\\x06\\x05\\x08\\x07\\x07\\x07\\x09\\x09\\x08\\x0a\\x0c\\x14\\x0d\\x0c\\x0b\\x0b\\x0c\\x19\\x12\\x13\\x0f\\x14\\x1d\\x1a\\x1f\\x1e\\x1d\\x1a\\x1c\\x1c\\x20$.&#x27;\\x20&quot;...</td></tr><tr><td>&quot;f0/b8/56912494…</td><td>35.311724</td><td>46.96588</td><td>b&quot;\\xff\\xd8\\xff\\xe0\\x00\\x10JFIF\\x00\\x01\\x01\\x00\\x00\\x01\\x00\\x01\\x00\\x00\\xff\\xdb\\x00C\\x00\\x08\\x06\\x06\\x07\\x06\\x05\\x08\\x07\\x07\\x07\\x09\\x09\\x08\\x0a\\x0c\\x14\\x0d\\x0c\\x0b\\x0b\\x0c\\x19\\x12\\x13\\x0f\\x14\\x1d\\x1a\\x1f\\x1e\\x1d\\x1a\\x1c\\x1c\\x20$.&#x27;\\x20&quot;...</td></tr><tr><td>&quot;48/ee/35008705…</td><td>-23.385988</td><td>150.506231</td><td>b&quot;\\xff\\xd8\\xff\\xe0\\x00\\x10JFIF\\x00\\x01\\x01\\x00\\x00\\x01\\x00\\x01\\x00\\x00\\xff\\xdb\\x00C\\x00\\x08\\x06\\x06\\x07\\x06\\x05\\x08\\x07\\x07\\x07\\x09\\x09\\x08\\x0a\\x0c\\x14\\x0d\\x0c\\x0b\\x0b\\x0c\\x19\\x12\\x13\\x0f\\x14\\x1d\\x1a\\x1f\\x1e\\x1d\\x1a\\x1c\\x1c\\x20$.&#x27;\\x20&quot;...</td></tr><tr><td>&quot;f7/22/20743646…</td><td>-33.89669</td><td>151.186434</td><td>b&quot;\\xff\\xd8\\xff\\xe0\\x00\\x10JFIF\\x00\\x01\\x01\\x00\\x00\\x01\\x00\\x01\\x00\\x00\\xff\\xdb\\x00C\\x00\\x08\\x06\\x06\\x07\\x06\\x05\\x08\\x07\\x07\\x07\\x09\\x09\\x08\\x0a\\x0c\\x14\\x0d\\x0c\\x0b\\x0b\\x0c\\x19\\x12\\x13\\x0f\\x14\\x1d\\x1a\\x1f\\x1e\\x1d\\x1a\\x1c\\x1c\\x20$.&#x27;\\x20&quot;...</td></tr></tbody></table></div>"
      ],
      "text/plain": [
       "shape: (10, 4)\n",
       "┌──────────────────────┬────────────┬────────────┬───────────────────────────────────┐\n",
       "│ id                   ┆ latitude   ┆ longitude  ┆ image                             │\n",
       "│ ---                  ┆ ---        ┆ ---        ┆ ---                               │\n",
       "│ str                  ┆ f64        ┆ f64        ┆ binary                            │\n",
       "╞══════════════════════╪════════════╪════════════╪═══════════════════════════════════╡\n",
       "│ ba/08/6468190417.jpg ┆ 41.906     ┆ 12.455     ┆ b\"\\xff\\xd8\\xff\\xe0\\x00\\x10JFIF\\x… │\n",
       "│ 5a/c7/8582299397.jpg ┆ 48.211072  ┆ 16.36736   ┆ b\"\\xff\\xd8\\xff\\xe0\\x00\\x10JFIF\\x… │\n",
       "│ 81/90/8694156503.jpg ┆ 43.942876  ┆ 12.774091  ┆ b\"\\xff\\xd8\\xff\\xe0\\x00\\x10JFIF\\x… │\n",
       "│ 86/07/6337050880.jpg ┆ 41.339055  ┆ 14.507789  ┆ b\"\\xff\\xd8\\xff\\xe0\\x00\\x10JFIF\\x… │\n",
       "│ 59/ed/4933214039.jpg ┆ -23.210269 ┆ -44.693223 ┆ b\"\\xff\\xd8\\xff\\xe0\\x00\\x10JFIF\\x… │\n",
       "│ 4c/fa/263731207.jpg  ┆ 35.659384  ┆ 139.700673 ┆ b\"\\xff\\xd8\\xff\\xe0\\x00\\x10JFIF\\x… │\n",
       "│ 27/78/2950639762.jpg ┆ 41.383594  ┆ 2.167063   ┆ b\"\\xff\\xd8\\xff\\xe0\\x00\\x10JFIF\\x… │\n",
       "│ f0/b8/5691249444.jpg ┆ 35.311724  ┆ 46.96588   ┆ b\"\\xff\\xd8\\xff\\xe0\\x00\\x10JFIF\\x… │\n",
       "│ 48/ee/350087053.jpg  ┆ -23.385988 ┆ 150.506231 ┆ b\"\\xff\\xd8\\xff\\xe0\\x00\\x10JFIF\\x… │\n",
       "│ f7/22/2074364651.jpg ┆ -33.89669  ┆ 151.186434 ┆ b\"\\xff\\xd8\\xff\\xe0\\x00\\x10JFIF\\x… │\n",
       "└──────────────────────┴────────────┴────────────┴───────────────────────────────────┘"
      ]
     },
     "execution_count": 8,
     "metadata": {},
     "output_type": "execute_result"
    }
   ],
   "source": [
    "df.head(10).collect()"
   ]
  }
 ],
 "metadata": {
  "kernelspec": {
   "display_name": "locus-model",
   "language": "python",
   "name": "python3"
  },
  "language_info": {
   "codemirror_mode": {
    "name": "ipython",
    "version": 3
   },
   "file_extension": ".py",
   "mimetype": "text/x-python",
   "name": "python",
   "nbconvert_exporter": "python",
   "pygments_lexer": "ipython3",
   "version": "3.11.7"
  }
 },
 "nbformat": 4,
 "nbformat_minor": 2
}
