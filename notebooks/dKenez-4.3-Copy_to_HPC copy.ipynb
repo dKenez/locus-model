{
 "cells": [
  {
   "cell_type": "code",
   "execution_count": 42,
   "metadata": {},
   "outputs": [],
   "source": [
    "import polars as pl\n",
    "import psycopg2\n",
    "from dotenv import dotenv_values\n",
    "from locus.utils.paths import PROJECT_ROOT, SQL_DIR\n",
    "from tqdm import tqdm"
   ]
  },
  {
   "cell_type": "code",
   "execution_count": 43,
   "metadata": {},
   "outputs": [],
   "source": [
    "\n",
    "config = dotenv_values(PROJECT_ROOT / \".env\")\n",
    "\n",
    "conn_local = psycopg2.connect(\n",
    "    host=config[\"DB_HOST\"],\n",
    "    port=config[\"DB_PORT\"],\n",
    "    dbname=config[\"DB_NAME\"],\n",
    "    user=config[\"DB_USER\"],\n",
    "    password=config[\"DB_PASSWORD\"],\n",
    ")\n",
    "cur_local = conn_local.cursor()\n",
    "\n",
    "conn_hpc = psycopg2.connect(\n",
    "    host=config[\"HPC_DB_HOST\"],\n",
    "    port=config[\"HPC_DB_PORT\"],\n",
    "    dbname=config[\"HPC_DB_NAME\"],\n",
    "    user=config[\"HPC_DB_USER\"],\n",
    "    password=config[\"HPC_DB_PASSWORD\"],\n",
    ")\n",
    "cur_hpc = conn_hpc.cursor()"
   ]
  },
  {
   "cell_type": "code",
   "execution_count": 44,
   "metadata": {},
   "outputs": [
    {
     "data": {
      "text/plain": [
       "4233900"
      ]
     },
     "execution_count": 44,
     "metadata": {},
     "output_type": "execute_result"
    }
   ],
   "source": [
    "with open(SQL_DIR / \"select_max_id.sql\") as f:\n",
    "    cur_local.execute(f.read())\n",
    "\n",
    "# Retrieve query results\n",
    "max_id = cur_local.fetchall()[0][0]\n",
    "max_id"
   ]
  },
  {
   "cell_type": "code",
   "execution_count": 45,
   "metadata": {},
   "outputs": [
    {
     "data": {
      "text/html": [
       "<div><style>\n",
       ".dataframe > thead > tr,\n",
       ".dataframe > tbody > tr {\n",
       "  text-align: right;\n",
       "  white-space: pre-wrap;\n",
       "}\n",
       "</style>\n",
       "<small>shape: (999, 4)</small><table border=\"1\" class=\"dataframe\"><thead><tr><th>id</th><th>latitude</th><th>longitude</th><th>image</th></tr><tr><td>i64</td><td>f64</td><td>f64</td><td>object</td></tr></thead><tbody><tr><td>1</td><td>41.906</td><td>12.455</td><td>&lt;memory at 0x7f273e133640&gt;</td></tr><tr><td>2</td><td>48.21107</td><td>16.36736</td><td>&lt;memory at 0x7f273e01ab00&gt;</td></tr><tr><td>3</td><td>43.942875</td><td>12.774091</td><td>&lt;memory at 0x7f273e01ae00&gt;</td></tr><tr><td>4</td><td>41.339054</td><td>14.507789</td><td>&lt;memory at 0x7f273e01ad40&gt;</td></tr><tr><td>5</td><td>-23.21027</td><td>-44.693222</td><td>&lt;memory at 0x7f273e01aec0&gt;</td></tr><tr><td>6</td><td>35.659386</td><td>139.70067</td><td>&lt;memory at 0x7f273e01af80&gt;</td></tr><tr><td>7</td><td>41.383595</td><td>2.167063</td><td>&lt;memory at 0x7f273e01b040&gt;</td></tr><tr><td>8</td><td>35.311726</td><td>46.96588</td><td>&lt;memory at 0x7f273e01b100&gt;</td></tr><tr><td>9</td><td>-23.385988</td><td>150.50623</td><td>&lt;memory at 0x7f273e01b1c0&gt;</td></tr><tr><td>10</td><td>-33.89669</td><td>151.18643</td><td>&lt;memory at 0x7f273e01b280&gt;</td></tr><tr><td>11</td><td>47.018066</td><td>-65.54963</td><td>&lt;memory at 0x7f273e01b340&gt;</td></tr><tr><td>12</td><td>48.857597</td><td>2.337684</td><td>&lt;memory at 0x7f273e01b400&gt;</td></tr><tr><td>&hellip;</td><td>&hellip;</td><td>&hellip;</td><td>&hellip;</td></tr><tr><td>988</td><td>41.891273</td><td>-87.624596</td><td>&lt;memory at 0x7f273e07d300&gt;</td></tr><tr><td>989</td><td>-33.46281</td><td>151.43451</td><td>&lt;memory at 0x7f273e07d3c0&gt;</td></tr><tr><td>990</td><td>39.456673</td><td>-0.35565</td><td>&lt;memory at 0x7f273e07d480&gt;</td></tr><tr><td>991</td><td>47.520287</td><td>19.046898</td><td>&lt;memory at 0x7f273e07d540&gt;</td></tr><tr><td>992</td><td>41.8992</td><td>12.4731</td><td>&lt;memory at 0x7f273e07d600&gt;</td></tr><tr><td>993</td><td>38.749798</td><td>-9.162597</td><td>&lt;memory at 0x7f273e07d6c0&gt;</td></tr><tr><td>994</td><td>22.35849</td><td>103.8141</td><td>&lt;memory at 0x7f273e07d780&gt;</td></tr><tr><td>995</td><td>37.741165</td><td>-122.409836</td><td>&lt;memory at 0x7f273e07d840&gt;</td></tr><tr><td>996</td><td>42.319256</td><td>-72.630424</td><td>&lt;memory at 0x7f273e07d900&gt;</td></tr><tr><td>997</td><td>40.45772</td><td>-86.93323</td><td>&lt;memory at 0x7f273e07d9c0&gt;</td></tr><tr><td>998</td><td>37.34523</td><td>-120.5916</td><td>&lt;memory at 0x7f273e07da80&gt;</td></tr><tr><td>999</td><td>5.585917</td><td>36.77433</td><td>&lt;memory at 0x7f273e07db40&gt;</td></tr></tbody></table></div>"
      ],
      "text/plain": [
       "shape: (999, 4)\n",
       "┌─────┬───────────┬─────────────┬────────────────────────────┐\n",
       "│ id  ┆ latitude  ┆ longitude   ┆ image                      │\n",
       "│ --- ┆ ---       ┆ ---         ┆ ---                        │\n",
       "│ i64 ┆ f64       ┆ f64         ┆ object                     │\n",
       "╞═════╪═══════════╪═════════════╪════════════════════════════╡\n",
       "│ 1   ┆ 41.906    ┆ 12.455      ┆ <memory at 0x7f273e133640> │\n",
       "│ 2   ┆ 48.21107  ┆ 16.36736    ┆ <memory at 0x7f273e01ab00> │\n",
       "│ 3   ┆ 43.942875 ┆ 12.774091   ┆ <memory at 0x7f273e01ae00> │\n",
       "│ 4   ┆ 41.339054 ┆ 14.507789   ┆ <memory at 0x7f273e01ad40> │\n",
       "│ 5   ┆ -23.21027 ┆ -44.693222  ┆ <memory at 0x7f273e01aec0> │\n",
       "│ …   ┆ …         ┆ …           ┆ …                          │\n",
       "│ 995 ┆ 37.741165 ┆ -122.409836 ┆ <memory at 0x7f273e07d840> │\n",
       "│ 996 ┆ 42.319256 ┆ -72.630424  ┆ <memory at 0x7f273e07d900> │\n",
       "│ 997 ┆ 40.45772  ┆ -86.93323   ┆ <memory at 0x7f273e07d9c0> │\n",
       "│ 998 ┆ 37.34523  ┆ -120.5916   ┆ <memory at 0x7f273e07da80> │\n",
       "│ 999 ┆ 5.585917  ┆ 36.77433    ┆ <memory at 0x7f273e07db40> │\n",
       "└─────┴───────────┴─────────────┴────────────────────────────┘"
      ]
     },
     "execution_count": 45,
     "metadata": {},
     "output_type": "execute_result"
    }
   ],
   "source": [
    "BATCH_SIZE = 1000\n",
    "\n",
    "select_batch_string = \"select * from dataset where id >= {} and id < {}\"\n",
    "\n",
    "df = pl.read_database(select_batch_string.format(0,  BATCH_SIZE), conn_local)\n",
    "df"
   ]
  },
  {
   "cell_type": "code",
   "execution_count": 48,
   "metadata": {},
   "outputs": [
    {
     "name": "stderr",
     "output_type": "stream",
     "text": [
      "100%|██████████| 4234/4234 [8:33:16<00:00,  7.27s/it]  \n"
     ]
    }
   ],
   "source": [
    "for i in tqdm(range(0, max_id, BATCH_SIZE)):\n",
    "    df = pl.read_database(select_batch_string.format(i, i + BATCH_SIZE), conn_local)\n",
    "    df = df.drop(\"id\")\n",
    "    df.write_database(\n",
    "        \"dataset\",\n",
    "        f'postgresql://{config[\"HPC_DB_USER\"]}:{config[\"HPC_DB_PASSWORD\"]}@{config[\"HPC_DB_HOST\"]}:{config[\"HPC_DB_PORT\"]}/{config[\"HPC_DB_NAME\"]}',\n",
    "        if_table_exists=\"append\",\n",
    "    )"
   ]
  },
  {
   "cell_type": "code",
   "execution_count": null,
   "metadata": {},
   "outputs": [],
   "source": []
  }
 ],
 "metadata": {
  "kernelspec": {
   "display_name": "locus-model",
   "language": "python",
   "name": "python3"
  },
  "language_info": {
   "codemirror_mode": {
    "name": "ipython",
    "version": 3
   },
   "file_extension": ".py",
   "mimetype": "text/x-python",
   "name": "python",
   "nbconvert_exporter": "python",
   "pygments_lexer": "ipython3",
   "version": "3.11.7"
  }
 },
 "nbformat": 4,
 "nbformat_minor": 2
}
